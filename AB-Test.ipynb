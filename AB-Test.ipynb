{
 "cells": [
  {
   "cell_type": "markdown",
   "metadata": {},
   "source": [
    "## Descripción de proyecto\n",
    "\n",
    "Has recibido una tarea analítica de una tienda en línea internacional. Tus predecesores no consiguieron completarla: lanzaron una prueba A/B y luego abandonaron (para iniciar una granja de sandías en Brasil). Solo dejaron las especificaciones técnicas y los resultados de las pruebas."
   ]
  },
  {
   "cell_type": "markdown",
   "metadata": {},
   "source": [
    "## Descripción Técnica\n",
    "\n",
    "- Nombre de la prueba: `recommender_system_test`\n",
    "- Grupos: А (control), B (nuevo embudo de pago)\n",
    "- Launch date: 2020-12-07\n",
    "- Fecha en la que dejaron de aceptar nuevos usuarios: 2020-12-21\n",
    "- Fecha de finalización: 2021-01-01\n",
    "- Audiencia: 15% de los nuevos usuarios de la región de la UE\n",
    "- Propósito de la prueba: probar cambios relacionados con la introducción de un sistema de recomendaciones mejorado\n",
    "- Resultado esperado: dentro de los 14 días posteriores a la inscripción, los usuarios mostrarán una mejor conversión en vistas de la página del producto (el evento `product_page`), instancias de agregar artículos al carrito de compras (`product_card`) y compras (`purchase`). En cada etapa del embudo `product_page → product_card → purchase`, habrá al menos un 10% de aumento.\n",
    "- Número previsto de participantes de la prueba: 6000\n",
    "\n",
    "Descarga los datos de la prueba, comprueba si se ha realizado correctamente y analiza los resultados."
   ]
  },
  {
   "cell_type": "markdown",
   "metadata": {},
   "source": [
    "## Descripción de los Datos\n",
    "\n",
    "Se te propercionaron los siguentes datasets:\n",
    "\n",
    "- `ab_project_marketing_events_us.csv`: El calendario de eventos de marketing para 2020\n",
    "- `final_ab_new_users_upd_us.csv`: Todos los usuarios que se registraron en la tienda en línea desde el 7 hasta el 21 de diciembre de 2020\n",
    "- `final_ab_events_upd_us.csv`: Todos los eventos de los nuevos usuarios en el período comprendido entre el 7 de diciembre de 2020 y el 1 de enero de 2021\n",
    "- `final_ab_participants_upd_us.csv`: Tabla con los datos de los participantes de la prueba.\n",
    "\n",
    "Estructura `ab_project_marketing_events_us.csv`:\n",
    "\n",
    "- `name`: El nombre del evento de marketing\n",
    "- `regions`: Regiones donde se llevará a cabo la campaña publicitaria\n",
    "- `start_dt`: Fecha de inicio de la campaña\n",
    "- `finish_dt`: Fecha de finalización de la campaña\n",
    "\n",
    "\n",
    "Estructura `final_ab_new_users_upd_us.csv`:\n",
    "\n",
    "- `user_id`: ID del usuario\n",
    "- `first_date`: Fecha de inscripción\n",
    "- `region`: Región donde se llevo cabo la campaña\n",
    "- `device`: Dispositivo utilizado para la inscripción\n",
    "\n",
    "Estructura `final_ab_events_upd_us.csv`:\n",
    "\n",
    "- `user_id`: ID del usuario\n",
    "- `event_dt`: Fecha y hora del evento\n",
    "- `event_name`: Nombre del tipo de evento\n",
    "- `details`: Datos adicionales sobre el evento (por ejemplo, el pedido total en USD para los eventos `purchase`)\n",
    "\n",
    "Estructura `final_ab_participants_upd_us.csv`:\n",
    "\n",
    "- `user_id`: ID del usuario\n",
    "- `ab_test`: Nombre de la prueba\n",
    "- `group`: El grupo de prueba al que pertenecía el usuario"
   ]
  },
  {
   "cell_type": "markdown",
   "metadata": {},
   "source": [
    "## Instrucciones para completar el proyecto\n",
    "\n",
    "* Describe los objetivos del estudio.\n",
    "\n",
    "- Explora los datos:\n",
    "    - ¿Es necesario convertir los tipos?\n",
    "    - ¿Hay valores ausentes o duplicados? Si es así, ¿cómo los caracterizarías?\n",
    "\n",
    "- Lleva a cabo el análisis exploratorio de datos:\n",
    "    - Estudia la conversión en las diferentes etapas del embudo.\n",
    "    - ¿El número de eventos por usuario está distribuido equitativamente entre las muestras?\n",
    "    - ¿Hay usuarios que están presentes en ambas muestras?\n",
    "    - ¿Cómo se distribuye el número de eventos entre los días?\n",
    "    - ¿Hay alguna peculiaridad en los datos que hay que tener en cuenta antes de iniciar la prueba A/B?\n",
    "\n",
    "- Evaluar los resultados de la prueba A/B:\n",
    "    - ¿Qué puedes decir sobre los resultados de la prueba A/B?\n",
    "    - Utiliza una prueba z para comprobar la diferencia estadística entre las proporciones\n",
    "\n",
    "* Describe tus conclusiones con respecto a la etapa EDA y los resultados de la prueba A/B"
   ]
  },
  {
   "cell_type": "markdown",
   "metadata": {},
   "source": [
    "## OBJETIVOS DEL ESTUDIO DEL A/B TEST:\n",
    "\n",
    "Analizar el lanzamiento de una nueva pagina de productos(product_page) a la que se le realizaron modificaciones con la idea de tener una mejor conversión en vistas de la página del producto. En cada etapa del embudo product_page → product_card → purchase, habrá al menos un 10% de aumento.\n",
    "\n",
    "- OBJETIVOS DEL ANALISIS:\n",
    "\n",
    "    - Verificar los datos de prueba del A/B test y comprobar si el test se ha hecho correctamente\n",
    "    - Estudiar el embudo de eventos y analizar los resultados del experimento del A/B test"
   ]
  },
  {
   "cell_type": "markdown",
   "metadata": {},
   "source": [
    "## Analisis exploratorio de datos(EDA)"
   ]
  },
  {
   "cell_type": "markdown",
   "metadata": {},
   "source": [
    "### Carga de datsets e importe de librerias"
   ]
  },
  {
   "cell_type": "code",
   "execution_count": 1,
   "metadata": {},
   "outputs": [],
   "source": [
    "# Importamos todas las librerias\n",
    "\n",
    "import pandas as pd\n",
    "import numpy as np\n",
    "import math as mth\n",
    "import datetime as dt\n",
    "from matplotlib import pyplot as plt\n",
    "from plotly import graph_objects as go\n",
    "import seaborn as sns\n",
    "from scipy import stats as st"
   ]
  },
  {
   "cell_type": "code",
   "execution_count": 5,
   "metadata": {},
   "outputs": [],
   "source": [
    "# Cargamos todos los los datasets\n",
    "\n",
    "ab_project_marketing_events_us = \"https://docs.google.com/spreadsheets/d/e/2PACX-1vQo5ygo1JA2gDqJfoysjvOPvu2Y9gDZuUytT9A0z7tPLfIRGlI8nRAerpYTK4ffbfW2VOHbYFIeXqEV/pub?gid=64307653&single=true&output=csv\"\n",
    "final_ab_new_users_upd_us = \"https://docs.google.com/spreadsheets/d/e/2PACX-1vRnMGCjt2mNpM7svTEeJ91roNYlg05jRAOTlz44mabhNMdKE1rsGNsJTbqE3tOZ8JuUv6QVKHDFSoEV/pub?gid=2047897573&single=true&output=csv\"\n",
    "final_ab_events_upd_us = \"https://docs.google.com/spreadsheets/d/e/2PACX-1vQUzRjM4Ywstwex6P8l3I-Ry7kQlca0jvSZZ2640iyVlvGHVjpusAE9al4OFZZqHn_B5NXpSK0NkvY1/pub?gid=771881902&single=true&output=csv\"\n",
    "final_ab_participants_upd_us = \"https://docs.google.com/spreadsheets/d/e/2PACX-1vTD_Fcbuh7edqEEbyhjDYCtCJgEzkE3PSgmzGQfAQsxF1a2c1ETQ8fx9xkBMr5s6P7Sx2rMpNT-pauK/pub?gid=2042992176&single=true&output=csv\"\n",
    "\n",
    "m_events = pd.read_csv(ab_project_marketing_events_us)\n",
    "new_users = pd.read_csv(final_ab_new_users_upd_us)\n",
    "users_event = pd.read_csv(final_ab_events_upd_us)\n",
    "participants = pd.read_csv(final_ab_participants_upd_us)"
   ]
  },
  {
   "cell_type": "code",
   "execution_count": 6,
   "metadata": {},
   "outputs": [
    {
     "name": "stdout",
     "output_type": "stream",
     "text": [
      "                           name                   regions    start_dt  \\\n",
      "0      Christmas&New Year Promo             EU, N.America  2020-12-25   \n",
      "1  St. Valentine's Day Giveaway  EU, CIS, APAC, N.America  2020-02-14   \n",
      "2        St. Patric's Day Promo             EU, N.America  2020-03-17   \n",
      "3                  Easter Promo  EU, CIS, APAC, N.America  2020-04-12   \n",
      "4             4th of July Promo                 N.America  2020-07-04   \n",
      "\n",
      "    finish_dt  \n",
      "0  2021-01-03  \n",
      "1  2020-02-16  \n",
      "2  2020-03-19  \n",
      "3  2020-04-19  \n",
      "4  2020-07-11  \n",
      "<class 'pandas.core.frame.DataFrame'>\n",
      "RangeIndex: 14 entries, 0 to 13\n",
      "Data columns (total 4 columns):\n",
      " #   Column     Non-Null Count  Dtype \n",
      "---  ------     --------------  ----- \n",
      " 0   name       14 non-null     object\n",
      " 1   regions    14 non-null     object\n",
      " 2   start_dt   14 non-null     object\n",
      " 3   finish_dt  14 non-null     object\n",
      "dtypes: object(4)\n",
      "memory usage: 580.0+ bytes\n"
     ]
    }
   ],
   "source": [
    "# Lectura de datasets\n",
    "\n",
    "print(m_events.head())\n",
    "m_events.info()\n"
   ]
  },
  {
   "cell_type": "code",
   "execution_count": 7,
   "metadata": {},
   "outputs": [
    {
     "name": "stdout",
     "output_type": "stream",
     "text": [
      "            user_id  first_date     region   device\n",
      "0  D72A72121175D8BE  2020-12-07         EU       PC\n",
      "1  F1C668619DFE6E65  2020-12-07  N.America  Android\n",
      "2  2E1BF1D4C37EA01F  2020-12-07         EU       PC\n",
      "3  50734A22C0C63768  2020-12-07         EU   iPhone\n",
      "4  E1BDDCE0DAFA2679  2020-12-07  N.America   iPhone\n",
      "<class 'pandas.core.frame.DataFrame'>\n",
      "RangeIndex: 58703 entries, 0 to 58702\n",
      "Data columns (total 4 columns):\n",
      " #   Column      Non-Null Count  Dtype \n",
      "---  ------      --------------  ----- \n",
      " 0   user_id     58703 non-null  object\n",
      " 1   first_date  58703 non-null  object\n",
      " 2   region      58703 non-null  object\n",
      " 3   device      58703 non-null  object\n",
      "dtypes: object(4)\n",
      "memory usage: 1.8+ MB\n"
     ]
    }
   ],
   "source": [
    "print(new_users.head())\n",
    "new_users.info()"
   ]
  },
  {
   "cell_type": "code",
   "execution_count": 8,
   "metadata": {},
   "outputs": [
    {
     "name": "stdout",
     "output_type": "stream",
     "text": [
      "            user_id             event_dt event_name  details\n",
      "0  E1BDDCE0DAFA2679  2020-12-07 20:22:03   purchase    99.99\n",
      "1  7B6452F081F49504   2020-12-07 9:22:53   purchase     9.99\n",
      "2  9CD9F34546DF254C  2020-12-07 12:59:29   purchase     4.99\n",
      "3  96F27A054B191457   2020-12-07 4:02:40   purchase     4.99\n",
      "4  1FD7660FDF94CA1F  2020-12-07 10:15:09   purchase     4.99\n",
      "<class 'pandas.core.frame.DataFrame'>\n",
      "RangeIndex: 423761 entries, 0 to 423760\n",
      "Data columns (total 4 columns):\n",
      " #   Column      Non-Null Count   Dtype  \n",
      "---  ------      --------------   -----  \n",
      " 0   user_id     423761 non-null  object \n",
      " 1   event_dt    423761 non-null  object \n",
      " 2   event_name  423761 non-null  object \n",
      " 3   details     60314 non-null   float64\n",
      "dtypes: float64(1), object(3)\n",
      "memory usage: 12.9+ MB\n"
     ]
    }
   ],
   "source": [
    "print(users_event.head())\n",
    "users_event.info()"
   ]
  },
  {
   "cell_type": "code",
   "execution_count": 9,
   "metadata": {},
   "outputs": [
    {
     "name": "stdout",
     "output_type": "stream",
     "text": [
      "            user_id group                  ab_test\n",
      "0  D1ABA3E2887B6A73     A  recommender_system_test\n",
      "1  A7A3664BD6242119     A  recommender_system_test\n",
      "2  DABC14FDDFADD29E     A  recommender_system_test\n",
      "3  04988C5DF189632E     A  recommender_system_test\n",
      "4  4FF2998A348C484F     A  recommender_system_test\n",
      "<class 'pandas.core.frame.DataFrame'>\n",
      "RangeIndex: 14525 entries, 0 to 14524\n",
      "Data columns (total 3 columns):\n",
      " #   Column   Non-Null Count  Dtype \n",
      "---  ------   --------------  ----- \n",
      " 0   user_id  14525 non-null  object\n",
      " 1   group    14525 non-null  object\n",
      " 2   ab_test  14525 non-null  object\n",
      "dtypes: object(3)\n",
      "memory usage: 340.6+ KB\n"
     ]
    }
   ],
   "source": [
    "print(participants.head())\n",
    "participants.info()"
   ]
  },
  {
   "cell_type": "markdown",
   "metadata": {},
   "source": [
    "**OBSERVACIONES: Por ahora, podemos notar que tenemos que convertir las columnas con fechas al tipo de datos `datetime`. Tenemos presencia de valores ausentes en algunos datasets. Mas adelante haremos el tratamiento o reemplazo de esos valores. Tambien se puede notar que no es necesario renombrar los nombres de las columnas.**"
   ]
  },
  {
   "cell_type": "code",
   "execution_count": 10,
   "metadata": {},
   "outputs": [],
   "source": [
    "# Pasamos las columnas con fechas al tipo de datos datetime\n",
    "\n",
    "m_events[\"start_dt\"] = m_events[\"start_dt\"].map(lambda x: dt.datetime.strptime(x, \"%Y-%m-%d\"))\n",
    "m_events[\"finish_dt\"] = m_events[\"finish_dt\"].map(lambda x: dt.datetime.strptime(x, \"%Y-%m-%d\"))\n",
    "new_users[\"first_date\"] = new_users[\"first_date\"].map(lambda x: dt.datetime.strptime(x, \"%Y-%m-%d\"))\n",
    "users_event[\"event_dt\"] = users_event[\"event_dt\"].map(lambda x: dt.datetime.strptime(x, \"%Y-%m-%d %H:%M:%S\"))"
   ]
  },
  {
   "cell_type": "code",
   "execution_count": 11,
   "metadata": {},
   "outputs": [
    {
     "name": "stdout",
     "output_type": "stream",
     "text": [
      "<class 'pandas.core.frame.DataFrame'>\n",
      "RangeIndex: 14 entries, 0 to 13\n",
      "Data columns (total 4 columns):\n",
      " #   Column     Non-Null Count  Dtype         \n",
      "---  ------     --------------  -----         \n",
      " 0   name       14 non-null     object        \n",
      " 1   regions    14 non-null     object        \n",
      " 2   start_dt   14 non-null     datetime64[ns]\n",
      " 3   finish_dt  14 non-null     datetime64[ns]\n",
      "dtypes: datetime64[ns](2), object(2)\n",
      "memory usage: 580.0+ bytes\n"
     ]
    }
   ],
   "source": [
    "# Verificamos los cambios mostrando los datasets con el metodo info()\n",
    "\n",
    "m_events.info()"
   ]
  },
  {
   "cell_type": "code",
   "execution_count": 12,
   "metadata": {},
   "outputs": [
    {
     "name": "stdout",
     "output_type": "stream",
     "text": [
      "<class 'pandas.core.frame.DataFrame'>\n",
      "RangeIndex: 58703 entries, 0 to 58702\n",
      "Data columns (total 4 columns):\n",
      " #   Column      Non-Null Count  Dtype         \n",
      "---  ------      --------------  -----         \n",
      " 0   user_id     58703 non-null  object        \n",
      " 1   first_date  58703 non-null  datetime64[ns]\n",
      " 2   region      58703 non-null  object        \n",
      " 3   device      58703 non-null  object        \n",
      "dtypes: datetime64[ns](1), object(3)\n",
      "memory usage: 1.8+ MB\n"
     ]
    }
   ],
   "source": [
    "# Verificamos los cambios mostrando los datasets con el metodo info()\n",
    "\n",
    "new_users.info()"
   ]
  },
  {
   "cell_type": "code",
   "execution_count": 13,
   "metadata": {},
   "outputs": [
    {
     "name": "stdout",
     "output_type": "stream",
     "text": [
      "<class 'pandas.core.frame.DataFrame'>\n",
      "RangeIndex: 423761 entries, 0 to 423760\n",
      "Data columns (total 4 columns):\n",
      " #   Column      Non-Null Count   Dtype         \n",
      "---  ------      --------------   -----         \n",
      " 0   user_id     423761 non-null  object        \n",
      " 1   event_dt    423761 non-null  datetime64[ns]\n",
      " 2   event_name  423761 non-null  object        \n",
      " 3   details     60314 non-null   float64       \n",
      "dtypes: datetime64[ns](1), float64(1), object(2)\n",
      "memory usage: 12.9+ MB\n"
     ]
    }
   ],
   "source": [
    "users_event.info()"
   ]
  },
  {
   "cell_type": "code",
   "execution_count": 14,
   "metadata": {},
   "outputs": [
    {
     "name": "stdout",
     "output_type": "stream",
     "text": [
      "<class 'pandas.core.frame.DataFrame'>\n",
      "RangeIndex: 14525 entries, 0 to 14524\n",
      "Data columns (total 3 columns):\n",
      " #   Column   Non-Null Count  Dtype \n",
      "---  ------   --------------  ----- \n",
      " 0   user_id  14525 non-null  object\n",
      " 1   group    14525 non-null  object\n",
      " 2   ab_test  14525 non-null  object\n",
      "dtypes: object(3)\n",
      "memory usage: 340.6+ KB\n"
     ]
    }
   ],
   "source": [
    "participants.info()"
   ]
  },
  {
   "cell_type": "code",
   "execution_count": 15,
   "metadata": {},
   "outputs": [
    {
     "name": "stdout",
     "output_type": "stream",
     "text": [
      "count                               14\n",
      "mean     2020-07-02 06:51:25.714285824\n",
      "min                2020-01-25 00:00:00\n",
      "25%                2020-03-23 12:00:00\n",
      "50%                2020-06-01 12:00:00\n",
      "75%                2020-10-31 18:00:00\n",
      "max                2020-12-30 00:00:00\n",
      "Name: start_dt, dtype: object\n",
      "count                               14\n",
      "mean     2020-07-07 10:17:08.571428608\n",
      "min                2020-02-07 00:00:00\n",
      "25%                2020-03-26 18:00:00\n",
      "50%                2020-06-05 12:00:00\n",
      "75%                2020-11-03 00:00:00\n",
      "max                2021-01-07 00:00:00\n",
      "Name: finish_dt, dtype: object\n"
     ]
    }
   ],
   "source": [
    "# Usamos describe() en la columnas con fechas y numericas\n",
    "\n",
    "print(m_events[\"start_dt\"].describe())\n",
    "print(m_events[\"finish_dt\"].describe())"
   ]
  },
  {
   "cell_type": "code",
   "execution_count": 16,
   "metadata": {},
   "outputs": [
    {
     "name": "stdout",
     "output_type": "stream",
     "text": [
      "count                            58703\n",
      "mean     2020-12-15 01:59:36.573599488\n",
      "min                2020-12-07 00:00:00\n",
      "25%                2020-12-11 00:00:00\n",
      "50%                2020-12-15 00:00:00\n",
      "75%                2020-12-20 00:00:00\n",
      "max                2020-12-23 00:00:00\n",
      "Name: first_date, dtype: object\n"
     ]
    }
   ],
   "source": [
    "print(new_users[\"first_date\"].describe())"
   ]
  },
  {
   "cell_type": "code",
   "execution_count": 17,
   "metadata": {},
   "outputs": [
    {
     "name": "stdout",
     "output_type": "stream",
     "text": [
      "count                           423761\n",
      "mean     2020-12-18 10:10:17.282395648\n",
      "min                2020-12-07 00:00:33\n",
      "25%                2020-12-14 03:05:18\n",
      "50%                2020-12-18 17:40:52\n",
      "75%                2020-12-22 13:51:17\n",
      "max                2020-12-30 23:36:33\n",
      "Name: event_dt, dtype: object\n",
      "count    60314.000000\n",
      "mean        23.881219\n",
      "std         72.228884\n",
      "min          4.990000\n",
      "25%          4.990000\n",
      "50%          4.990000\n",
      "75%          9.990000\n",
      "max        499.990000\n",
      "Name: details, dtype: float64\n"
     ]
    }
   ],
   "source": [
    "print(users_event[\"event_dt\"].describe())\n",
    "print(users_event[\"details\"].describe())"
   ]
  },
  {
   "cell_type": "markdown",
   "metadata": {},
   "source": [
    "**OBSERVACIONES: El rango de fechas de los datos del A/B test van desde el 7 de Diciembre del 2020 hasta el 30 de Diciembre del mismo mes. El A/B test abarca datos de menos de 1 mes de duracion del test.**"
   ]
  },
  {
   "cell_type": "markdown",
   "metadata": {},
   "source": [
    "### Verificacion de valores duplicados"
   ]
  },
  {
   "cell_type": "code",
   "execution_count": 18,
   "metadata": {},
   "outputs": [
    {
     "name": "stdout",
     "output_type": "stream",
     "text": [
      "0\n",
      "0\n",
      "0\n",
      "0\n"
     ]
    }
   ],
   "source": [
    "# Verificamos los valores duplicados en todos los datasets\n",
    "\n",
    "print(m_events.duplicated().sum())\n",
    "print(new_users.duplicated().sum())\n",
    "print(users_event.duplicated().sum())\n",
    "print(participants.duplicated().sum())"
   ]
  },
  {
   "cell_type": "markdown",
   "metadata": {},
   "source": [
    "**OBSERVACIONES: No tenemos presencia de valores duplicados en los diferentes datasets**"
   ]
  },
  {
   "cell_type": "markdown",
   "metadata": {},
   "source": [
    "### Verificacion y tratamiento de valores ausentes"
   ]
  },
  {
   "cell_type": "code",
   "execution_count": 19,
   "metadata": {},
   "outputs": [
    {
     "name": "stdout",
     "output_type": "stream",
     "text": [
      "name         0\n",
      "regions      0\n",
      "start_dt     0\n",
      "finish_dt    0\n",
      "dtype: int64\n"
     ]
    }
   ],
   "source": [
    "# Verificacamos valores ausentes\n",
    "\n",
    "print(m_events.isna().sum())"
   ]
  },
  {
   "cell_type": "code",
   "execution_count": 20,
   "metadata": {},
   "outputs": [
    {
     "name": "stdout",
     "output_type": "stream",
     "text": [
      "user_id       0\n",
      "first_date    0\n",
      "region        0\n",
      "device        0\n",
      "dtype: int64\n"
     ]
    }
   ],
   "source": [
    "print(new_users.isna().sum())"
   ]
  },
  {
   "cell_type": "code",
   "execution_count": 21,
   "metadata": {},
   "outputs": [
    {
     "name": "stdout",
     "output_type": "stream",
     "text": [
      "user_id            0\n",
      "event_dt           0\n",
      "event_name         0\n",
      "details       363447\n",
      "dtype: int64\n"
     ]
    }
   ],
   "source": [
    "print(users_event.isna().sum())"
   ]
  },
  {
   "cell_type": "code",
   "execution_count": 22,
   "metadata": {},
   "outputs": [
    {
     "name": "stdout",
     "output_type": "stream",
     "text": [
      "user_id    0\n",
      "group      0\n",
      "ab_test    0\n",
      "dtype: int64\n"
     ]
    }
   ],
   "source": [
    "print(participants.isna().sum())"
   ]
  },
  {
   "cell_type": "markdown",
   "metadata": {},
   "source": [
    "**OBSERVACIONES: Tenemos valores ausentes en el dataframe users_event en la columna \"details\". El resto de los datasets no presenta valores ausentes en la diferentes columnas**"
   ]
  },
  {
   "cell_type": "code",
   "execution_count": 23,
   "metadata": {},
   "outputs": [
    {
     "data": {
      "text/plain": [
       "details\n",
       "NaN       363447\n",
       "4.99       44579\n",
       "9.99        9158\n",
       "99.99       5405\n",
       "499.99      1172\n",
       "Name: count, dtype: int64"
      ]
     },
     "execution_count": 23,
     "metadata": {},
     "output_type": "execute_result"
    }
   ],
   "source": [
    "# Usamos value_counts(dropna=False) en la columna \"details\" con valores ausentes\n",
    "\n",
    "users_event[\"details\"].value_counts(dropna=False)"
   ]
  },
  {
   "cell_type": "code",
   "execution_count": 24,
   "metadata": {},
   "outputs": [
    {
     "data": {
      "text/plain": [
       "event_name\n",
       "login           182465\n",
       "product_page    120862\n",
       "purchase         60314\n",
       "product_cart     60120\n",
       "Name: count, dtype: int64"
      ]
     },
     "execution_count": 24,
     "metadata": {},
     "output_type": "execute_result"
    }
   ],
   "source": [
    "# Aplicamos el mimso proceso en la columna \"event_name\"\n",
    "\n",
    "\n",
    "users_event[\"event_name\"].value_counts(dropna=False)"
   ]
  },
  {
   "cell_type": "code",
   "execution_count": 25,
   "metadata": {},
   "outputs": [
    {
     "data": {
      "text/plain": [
       "event_name\n",
       "login           182465\n",
       "product_page    120862\n",
       "product_cart     60120\n",
       "Name: count, dtype: int64"
      ]
     },
     "execution_count": 25,
     "metadata": {},
     "output_type": "execute_result"
    }
   ],
   "source": [
    "# Revisamos valores ausentes por evento\n",
    "\n",
    "users_event[users_event[\"details\"].isna()][\"event_name\"].value_counts()"
   ]
  },
  {
   "cell_type": "code",
   "execution_count": 26,
   "metadata": {},
   "outputs": [
    {
     "data": {
      "text/plain": [
       "user_id        0.000000\n",
       "event_dt       0.000000\n",
       "event_name     0.000000\n",
       "details       85.766977\n",
       "dtype: float64"
      ]
     },
     "execution_count": 26,
     "metadata": {},
     "output_type": "execute_result"
    }
   ],
   "source": [
    "# Calculamos porcentaje de valores ausentes en las columnas\n",
    "\n",
    "(users_event.isna().sum()/users_event.shape[0])*100"
   ]
  },
  {
   "cell_type": "code",
   "execution_count": 27,
   "metadata": {},
   "outputs": [
    {
     "data": {
      "text/plain": [
       "event_name\n",
       "login           50.204019\n",
       "product_page    33.254367\n",
       "product_cart    16.541614\n",
       "Name: proportion, dtype: float64"
      ]
     },
     "execution_count": 27,
     "metadata": {},
     "output_type": "execute_result"
    }
   ],
   "source": [
    "# Calculamos el porcentaje de valores ausentes por eventos\n",
    "\n",
    "(users_event[users_event[\"details\"].isna()][\"event_name\"].value_counts(1))*100"
   ]
  },
  {
   "cell_type": "code",
   "execution_count": 28,
   "metadata": {},
   "outputs": [
    {
     "data": {
      "text/plain": [
       "count    60314.000000\n",
       "mean        23.881219\n",
       "std         72.228884\n",
       "min          4.990000\n",
       "25%          4.990000\n",
       "50%          4.990000\n",
       "75%          9.990000\n",
       "max        499.990000\n",
       "Name: details, dtype: float64"
      ]
     },
     "execution_count": 28,
     "metadata": {},
     "output_type": "execute_result"
    }
   ],
   "source": [
    "users_event[\"details\"].describe()"
   ]
  },
  {
   "cell_type": "code",
   "execution_count": 29,
   "metadata": {},
   "outputs": [
    {
     "data": {
      "text/plain": [
       "0"
      ]
     },
     "execution_count": 29,
     "metadata": {},
     "output_type": "execute_result"
    }
   ],
   "source": [
    "# Revisamos si existen valores ausentes en la columna \"details\" para el evento purchase de la columna \"event_name\"\n",
    "\n",
    "users_event[users_event[\"event_name\"]==\"purchase\"][\"details\"].isna().sum()"
   ]
  },
  {
   "cell_type": "markdown",
   "metadata": {},
   "source": [
    "**OBSERVACIONES: Aprox el 50% de los valores ausentes de la columna \"datails\" pertenecen al evento login. Lo demas eventos representan menos del 50% del total de los valores ausuentes presentes en esa columna. En este caso, como mas del 80% de los valores de la columna \"details\" son ausentes. En este caso, no hay valores ausentes para todos los eventos purchase de la columna \"event_name\" por lo tanto no es necesario reemplazar o eliminar filas y columnas en nustro dataset. No es necesario reemplazar valores ausentes o eliminar filas o columnas en nustro dataset.**"
   ]
  },
  {
   "cell_type": "markdown",
   "metadata": {},
   "source": [
    "### Eliminacion de usuarios presentes en ambos grupos"
   ]
  },
  {
   "cell_type": "code",
   "execution_count": 30,
   "metadata": {},
   "outputs": [
    {
     "name": "stdout",
     "output_type": "stream",
     "text": [
      "            user_id group                  ab_test\n",
      "0  D1ABA3E2887B6A73     A  recommender_system_test\n",
      "1  A7A3664BD6242119     A  recommender_system_test\n",
      "2  DABC14FDDFADD29E     A  recommender_system_test\n",
      "3  04988C5DF189632E     A  recommender_system_test\n",
      "4  4FF2998A348C484F     A  recommender_system_test\n"
     ]
    },
    {
     "data": {
      "text/plain": [
       "(14525, 3)"
      ]
     },
     "execution_count": 30,
     "metadata": {},
     "output_type": "execute_result"
    }
   ],
   "source": [
    "print(participants.head())\n",
    "participants.shape"
   ]
  },
  {
   "cell_type": "code",
   "execution_count": 31,
   "metadata": {},
   "outputs": [
    {
     "data": {
      "text/html": [
       "<div>\n",
       "<style scoped>\n",
       "    .dataframe tbody tr th:only-of-type {\n",
       "        vertical-align: middle;\n",
       "    }\n",
       "\n",
       "    .dataframe tbody tr th {\n",
       "        vertical-align: top;\n",
       "    }\n",
       "\n",
       "    .dataframe thead th {\n",
       "        text-align: right;\n",
       "    }\n",
       "</style>\n",
       "<table border=\"1\" class=\"dataframe\">\n",
       "  <thead>\n",
       "    <tr style=\"text-align: right;\">\n",
       "      <th></th>\n",
       "      <th>group</th>\n",
       "      <th>user_id</th>\n",
       "    </tr>\n",
       "  </thead>\n",
       "  <tbody>\n",
       "    <tr>\n",
       "      <th>0</th>\n",
       "      <td>A</td>\n",
       "      <td>2747</td>\n",
       "    </tr>\n",
       "    <tr>\n",
       "      <th>1</th>\n",
       "      <td>B</td>\n",
       "      <td>928</td>\n",
       "    </tr>\n",
       "  </tbody>\n",
       "</table>\n",
       "</div>"
      ],
      "text/plain": [
       "  group  user_id\n",
       "0     A     2747\n",
       "1     B      928"
      ]
     },
     "execution_count": 31,
     "metadata": {},
     "output_type": "execute_result"
    }
   ],
   "source": [
    "# Verificamos el numero de usuario unicos por grupo para el A/B test\n",
    "# Filtramos nuestro dataset para tomar solo los registros del A/B test llamando \"recommender_system_test\"\n",
    "\n",
    "participants_test = participants[participants[\"ab_test\"]==\"recommender_system_test\"]\n",
    "participants_test.groupby(\"group\", as_index=False)[\"user_id\"].nunique()"
   ]
  },
  {
   "cell_type": "markdown",
   "metadata": {},
   "source": [
    "**OBSERVACIONES: En el grupo A de control tenemos 2747 usuarios y en el grupo B tenemos 928 usuarios. La diferencia entre ambos grupos es notable por lo que los grupos no son equitativos.**"
   ]
  },
  {
   "cell_type": "code",
   "execution_count": 32,
   "metadata": {},
   "outputs": [
    {
     "name": "stdout",
     "output_type": "stream",
     "text": [
      "Empty DataFrame\n",
      "Columns: [user_id, group, ab_test]\n",
      "Index: []\n",
      "(0, 3)\n"
     ]
    }
   ],
   "source": [
    "# Guardamos todos los user_id del grupo A en una variable\n",
    "\n",
    "idsgroupA= participants_test[participants_test[\"group\"]==\"A\"][\"user_id\"].unique()\n",
    "\n",
    "# Filtramos nuestro dataset y mostramos filas y columnas\n",
    "\n",
    "mask = (participants_test[\"user_id\"].isin(idsgroupA)) & (participants_test[\"group\"]==\"B\")\n",
    "\n",
    "print(participants_test[mask])\n",
    "print(participants_test[mask].shape)"
   ]
  },
  {
   "cell_type": "markdown",
   "metadata": {},
   "source": [
    "**OBSERVACIONES: En este caso, se puede apreciar que no tenemos usuarios repetidos en el grupo B tambien presentes en el grupo A. No es necesario, eliminar registros**"
   ]
  },
  {
   "cell_type": "markdown",
   "metadata": {},
   "source": [
    "### Estudio y comprobacion de datos del A/B test"
   ]
  },
  {
   "cell_type": "code",
   "execution_count": 33,
   "metadata": {},
   "outputs": [
    {
     "data": {
      "text/html": [
       "<div>\n",
       "<style scoped>\n",
       "    .dataframe tbody tr th:only-of-type {\n",
       "        vertical-align: middle;\n",
       "    }\n",
       "\n",
       "    .dataframe tbody tr th {\n",
       "        vertical-align: top;\n",
       "    }\n",
       "\n",
       "    .dataframe thead th {\n",
       "        text-align: right;\n",
       "    }\n",
       "</style>\n",
       "<table border=\"1\" class=\"dataframe\">\n",
       "  <thead>\n",
       "    <tr style=\"text-align: right;\">\n",
       "      <th></th>\n",
       "      <th>user_id</th>\n",
       "      <th>event_dt</th>\n",
       "      <th>event_name</th>\n",
       "      <th>details</th>\n",
       "    </tr>\n",
       "  </thead>\n",
       "  <tbody>\n",
       "    <tr>\n",
       "      <th>0</th>\n",
       "      <td>E1BDDCE0DAFA2679</td>\n",
       "      <td>2020-12-07 20:22:03</td>\n",
       "      <td>purchase</td>\n",
       "      <td>99.99</td>\n",
       "    </tr>\n",
       "    <tr>\n",
       "      <th>1</th>\n",
       "      <td>7B6452F081F49504</td>\n",
       "      <td>2020-12-07 09:22:53</td>\n",
       "      <td>purchase</td>\n",
       "      <td>9.99</td>\n",
       "    </tr>\n",
       "    <tr>\n",
       "      <th>2</th>\n",
       "      <td>9CD9F34546DF254C</td>\n",
       "      <td>2020-12-07 12:59:29</td>\n",
       "      <td>purchase</td>\n",
       "      <td>4.99</td>\n",
       "    </tr>\n",
       "    <tr>\n",
       "      <th>3</th>\n",
       "      <td>96F27A054B191457</td>\n",
       "      <td>2020-12-07 04:02:40</td>\n",
       "      <td>purchase</td>\n",
       "      <td>4.99</td>\n",
       "    </tr>\n",
       "    <tr>\n",
       "      <th>4</th>\n",
       "      <td>1FD7660FDF94CA1F</td>\n",
       "      <td>2020-12-07 10:15:09</td>\n",
       "      <td>purchase</td>\n",
       "      <td>4.99</td>\n",
       "    </tr>\n",
       "  </tbody>\n",
       "</table>\n",
       "</div>"
      ],
      "text/plain": [
       "            user_id            event_dt event_name  details\n",
       "0  E1BDDCE0DAFA2679 2020-12-07 20:22:03   purchase    99.99\n",
       "1  7B6452F081F49504 2020-12-07 09:22:53   purchase     9.99\n",
       "2  9CD9F34546DF254C 2020-12-07 12:59:29   purchase     4.99\n",
       "3  96F27A054B191457 2020-12-07 04:02:40   purchase     4.99\n",
       "4  1FD7660FDF94CA1F 2020-12-07 10:15:09   purchase     4.99"
      ]
     },
     "execution_count": 33,
     "metadata": {},
     "output_type": "execute_result"
    }
   ],
   "source": [
    "users_event.head()"
   ]
  },
  {
   "cell_type": "code",
   "execution_count": 34,
   "metadata": {},
   "outputs": [
    {
     "data": {
      "text/html": [
       "<div>\n",
       "<style scoped>\n",
       "    .dataframe tbody tr th:only-of-type {\n",
       "        vertical-align: middle;\n",
       "    }\n",
       "\n",
       "    .dataframe tbody tr th {\n",
       "        vertical-align: top;\n",
       "    }\n",
       "\n",
       "    .dataframe thead th {\n",
       "        text-align: right;\n",
       "    }\n",
       "</style>\n",
       "<table border=\"1\" class=\"dataframe\">\n",
       "  <thead>\n",
       "    <tr style=\"text-align: right;\">\n",
       "      <th></th>\n",
       "      <th>user_id</th>\n",
       "      <th>group</th>\n",
       "      <th>ab_test</th>\n",
       "    </tr>\n",
       "  </thead>\n",
       "  <tbody>\n",
       "    <tr>\n",
       "      <th>0</th>\n",
       "      <td>D1ABA3E2887B6A73</td>\n",
       "      <td>A</td>\n",
       "      <td>recommender_system_test</td>\n",
       "    </tr>\n",
       "    <tr>\n",
       "      <th>1</th>\n",
       "      <td>A7A3664BD6242119</td>\n",
       "      <td>A</td>\n",
       "      <td>recommender_system_test</td>\n",
       "    </tr>\n",
       "    <tr>\n",
       "      <th>2</th>\n",
       "      <td>DABC14FDDFADD29E</td>\n",
       "      <td>A</td>\n",
       "      <td>recommender_system_test</td>\n",
       "    </tr>\n",
       "    <tr>\n",
       "      <th>3</th>\n",
       "      <td>04988C5DF189632E</td>\n",
       "      <td>A</td>\n",
       "      <td>recommender_system_test</td>\n",
       "    </tr>\n",
       "    <tr>\n",
       "      <th>4</th>\n",
       "      <td>4FF2998A348C484F</td>\n",
       "      <td>A</td>\n",
       "      <td>recommender_system_test</td>\n",
       "    </tr>\n",
       "  </tbody>\n",
       "</table>\n",
       "</div>"
      ],
      "text/plain": [
       "            user_id group                  ab_test\n",
       "0  D1ABA3E2887B6A73     A  recommender_system_test\n",
       "1  A7A3664BD6242119     A  recommender_system_test\n",
       "2  DABC14FDDFADD29E     A  recommender_system_test\n",
       "3  04988C5DF189632E     A  recommender_system_test\n",
       "4  4FF2998A348C484F     A  recommender_system_test"
      ]
     },
     "execution_count": 34,
     "metadata": {},
     "output_type": "execute_result"
    }
   ],
   "source": [
    "participants_test.head()"
   ]
  },
  {
   "cell_type": "code",
   "execution_count": 35,
   "metadata": {},
   "outputs": [
    {
     "data": {
      "text/html": [
       "<div>\n",
       "<style scoped>\n",
       "    .dataframe tbody tr th:only-of-type {\n",
       "        vertical-align: middle;\n",
       "    }\n",
       "\n",
       "    .dataframe tbody tr th {\n",
       "        vertical-align: top;\n",
       "    }\n",
       "\n",
       "    .dataframe thead th {\n",
       "        text-align: right;\n",
       "    }\n",
       "</style>\n",
       "<table border=\"1\" class=\"dataframe\">\n",
       "  <thead>\n",
       "    <tr style=\"text-align: right;\">\n",
       "      <th></th>\n",
       "      <th>user_id</th>\n",
       "      <th>event_dt</th>\n",
       "      <th>event_name</th>\n",
       "      <th>details</th>\n",
       "      <th>group</th>\n",
       "      <th>ab_test</th>\n",
       "    </tr>\n",
       "  </thead>\n",
       "  <tbody>\n",
       "    <tr>\n",
       "      <th>0</th>\n",
       "      <td>831887FE7F2D6CBA</td>\n",
       "      <td>2020-12-07 06:50:29</td>\n",
       "      <td>purchase</td>\n",
       "      <td>4.99</td>\n",
       "      <td>A</td>\n",
       "      <td>recommender_system_test</td>\n",
       "    </tr>\n",
       "    <tr>\n",
       "      <th>1</th>\n",
       "      <td>3C5DD0288AC4FE23</td>\n",
       "      <td>2020-12-07 19:42:40</td>\n",
       "      <td>purchase</td>\n",
       "      <td>4.99</td>\n",
       "      <td>A</td>\n",
       "      <td>recommender_system_test</td>\n",
       "    </tr>\n",
       "    <tr>\n",
       "      <th>2</th>\n",
       "      <td>49EA242586C87836</td>\n",
       "      <td>2020-12-07 06:31:24</td>\n",
       "      <td>purchase</td>\n",
       "      <td>99.99</td>\n",
       "      <td>B</td>\n",
       "      <td>recommender_system_test</td>\n",
       "    </tr>\n",
       "    <tr>\n",
       "      <th>3</th>\n",
       "      <td>2B06EB547B7AAD08</td>\n",
       "      <td>2020-12-07 21:36:38</td>\n",
       "      <td>purchase</td>\n",
       "      <td>4.99</td>\n",
       "      <td>A</td>\n",
       "      <td>recommender_system_test</td>\n",
       "    </tr>\n",
       "    <tr>\n",
       "      <th>4</th>\n",
       "      <td>A640F31CAC7823A6</td>\n",
       "      <td>2020-12-07 18:48:26</td>\n",
       "      <td>purchase</td>\n",
       "      <td>4.99</td>\n",
       "      <td>B</td>\n",
       "      <td>recommender_system_test</td>\n",
       "    </tr>\n",
       "  </tbody>\n",
       "</table>\n",
       "</div>"
      ],
      "text/plain": [
       "            user_id            event_dt event_name  details group  \\\n",
       "0  831887FE7F2D6CBA 2020-12-07 06:50:29   purchase     4.99     A   \n",
       "1  3C5DD0288AC4FE23 2020-12-07 19:42:40   purchase     4.99     A   \n",
       "2  49EA242586C87836 2020-12-07 06:31:24   purchase    99.99     B   \n",
       "3  2B06EB547B7AAD08 2020-12-07 21:36:38   purchase     4.99     A   \n",
       "4  A640F31CAC7823A6 2020-12-07 18:48:26   purchase     4.99     B   \n",
       "\n",
       "                   ab_test  \n",
       "0  recommender_system_test  \n",
       "1  recommender_system_test  \n",
       "2  recommender_system_test  \n",
       "3  recommender_system_test  \n",
       "4  recommender_system_test  "
      ]
     },
     "execution_count": 35,
     "metadata": {},
     "output_type": "execute_result"
    }
   ],
   "source": [
    "# Unimos los datasets users_event con participants usando merge()\n",
    "\n",
    "funnel = users_event.merge(participants_test, on=\"user_id\")\n",
    "funnel.head()"
   ]
  },
  {
   "cell_type": "code",
   "execution_count": 36,
   "metadata": {},
   "outputs": [
    {
     "name": "stdout",
     "output_type": "stream",
     "text": [
      "<class 'pandas.core.frame.DataFrame'>\n",
      "RangeIndex: 23909 entries, 0 to 23908\n",
      "Data columns (total 6 columns):\n",
      " #   Column      Non-Null Count  Dtype         \n",
      "---  ------      --------------  -----         \n",
      " 0   user_id     23909 non-null  object        \n",
      " 1   event_dt    23909 non-null  datetime64[ns]\n",
      " 2   event_name  23909 non-null  object        \n",
      " 3   details     3210 non-null   float64       \n",
      " 4   group       23909 non-null  object        \n",
      " 5   ab_test     23909 non-null  object        \n",
      "dtypes: datetime64[ns](1), float64(1), object(4)\n",
      "memory usage: 1.1+ MB\n"
     ]
    }
   ],
   "source": [
    "funnel.info()"
   ]
  },
  {
   "cell_type": "code",
   "execution_count": 37,
   "metadata": {},
   "outputs": [
    {
     "data": {
      "text/plain": [
       "group\n",
       "A    2747\n",
       "B     928\n",
       "Name: user_id, dtype: int64"
      ]
     },
     "execution_count": 37,
     "metadata": {},
     "output_type": "execute_result"
    }
   ],
   "source": [
    "# Mostramos el numero de usuarios unicos por grupo del A/B test\n",
    "\n",
    "funnel.groupby(\"group\")[\"user_id\"].nunique()"
   ]
  },
  {
   "cell_type": "code",
   "execution_count": 38,
   "metadata": {},
   "outputs": [
    {
     "data": {
      "image/png": "[encoded data removed]",
      "text/plain": [
       "<Figure size 640x480 with 1 Axes>"
      ]
     },
     "metadata": {},
     "output_type": "display_data"
    }
   ],
   "source": [
    "# Diagrama de barras del numero de usuarios unicos por grupo\n",
    "\n",
    "funnel.groupby(\"group\")[\"user_id\"].nunique().plot(kind=\"bar\")\n",
    "plt.ylabel(\"Users\")\n",
    "plt.title(\"Numer of users per group\")\n",
    "plt.show()"
   ]
  },
  {
   "cell_type": "code",
   "execution_count": 39,
   "metadata": {},
   "outputs": [
    {
     "name": "stdout",
     "output_type": "stream",
     "text": [
      "Numero de eventos totales: 23909\n",
      "\n",
      "Numero de eventos por tipo de eventos: event_name\n",
      "login           10837\n",
      "product_cart     3160\n",
      "product_page     6702\n",
      "purchase         3210\n",
      "Name: user_id, dtype: int64\n",
      "\n",
      "Numero de usuarios unicos: 3675\n",
      "\n",
      "Promedio de eventos por usuario: 6.51\n"
     ]
    }
   ],
   "source": [
    "# Mostramos las metricas del embudo de eventos\n",
    "\n",
    "\n",
    "print(f\"Numero de eventos totales: {len(funnel)}\")\n",
    "print()\n",
    "print(f\"Numero de eventos por tipo de eventos: {funnel.groupby('event_name')['user_id'].count()}\")\n",
    "print()\n",
    "print(f\"Numero de usuarios unicos: {funnel['user_id'].nunique()}\")\n",
    "print()\n",
    "print(f\"Promedio de eventos por usuario: {round(len(funnel)/funnel['user_id'].nunique(), 2)}\")"
   ]
  },
  {
   "cell_type": "markdown",
   "metadata": {},
   "source": [
    "**OBSERVACIONES: Tenemos 3675 usuarios unicos en el A/B test, teniendo en cuenta las descripciones tecnicas podemos notar que es un numero demsiado bajo ya por lo menos deberiamos tener un numero previso de participantes de 6000. El promedio de eventos por usuario es 6.51 que tambien es una cifra baja.**"
   ]
  },
  {
   "cell_type": "code",
   "execution_count": 40,
   "metadata": {},
   "outputs": [
    {
     "name": "stdout",
     "output_type": "stream",
     "text": [
      "Fecha minima: 2020-12-07 00:05:57\n",
      "Fecha maxima: 2020-12-30 12:42:57\n"
     ]
    }
   ],
   "source": [
    "# Veamos que periodo de tiempo cubren los datos\n",
    "\n",
    "print(f\"Fecha minima: {funnel['event_dt'].min()}\")\n",
    "print(f\"Fecha maxima: {funnel['event_dt'].max()}\")"
   ]
  },
  {
   "cell_type": "code",
   "execution_count": 41,
   "metadata": {},
   "outputs": [
    {
     "data": {
      "text/plain": [
       "Text(0.5, 1.0, 'Numero de registros por fechas')"
      ]
     },
     "execution_count": 41,
     "metadata": {},
     "output_type": "execute_result"
    },
    {
     "data": {
      "image/png": "[encoded data removed]",
      "text/plain": [
       "<Figure size 1000x1000 with 1 Axes>"
      ]
     },
     "metadata": {},
     "output_type": "display_data"
    }
   ],
   "source": [
    "# Revisamos el numero de registros por fechas de nuestros datos del A/B test\n",
    "\n",
    "funnel[\"date\"] = funnel[\"event_dt\"].dt.date\n",
    "\n",
    "# Trazamos un lineplot con seaborn \n",
    "\n",
    "plt.figure(figsize=(10,10))\n",
    "sns.lineplot(data=funnel.groupby(\"date\")[\"user_id\"].count().reset_index(), x=\"date\", y=\"user_id\")\n",
    "plt.xticks(rotation=90)\n",
    "plt.title(\"Numero de registros por fechas\")"
   ]
  },
  {
   "cell_type": "markdown",
   "metadata": {},
   "source": [
    "### Estudio del embudo simple de eventos"
   ]
  },
  {
   "cell_type": "code",
   "execution_count": 42,
   "metadata": {},
   "outputs": [
    {
     "data": {
      "text/html": [
       "<div>\n",
       "<style scoped>\n",
       "    .dataframe tbody tr th:only-of-type {\n",
       "        vertical-align: middle;\n",
       "    }\n",
       "\n",
       "    .dataframe tbody tr th {\n",
       "        vertical-align: top;\n",
       "    }\n",
       "\n",
       "    .dataframe thead th {\n",
       "        text-align: right;\n",
       "    }\n",
       "</style>\n",
       "<table border=\"1\" class=\"dataframe\">\n",
       "  <thead>\n",
       "    <tr style=\"text-align: right;\">\n",
       "      <th></th>\n",
       "      <th>event_name</th>\n",
       "      <th>user_id</th>\n",
       "    </tr>\n",
       "  </thead>\n",
       "  <tbody>\n",
       "    <tr>\n",
       "      <th>0</th>\n",
       "      <td>login</td>\n",
       "      <td>2747</td>\n",
       "    </tr>\n",
       "    <tr>\n",
       "      <th>2</th>\n",
       "      <td>product_page</td>\n",
       "      <td>1780</td>\n",
       "    </tr>\n",
       "    <tr>\n",
       "      <th>3</th>\n",
       "      <td>purchase</td>\n",
       "      <td>872</td>\n",
       "    </tr>\n",
       "    <tr>\n",
       "      <th>1</th>\n",
       "      <td>product_cart</td>\n",
       "      <td>824</td>\n",
       "    </tr>\n",
       "  </tbody>\n",
       "</table>\n",
       "</div>"
      ],
      "text/plain": [
       "     event_name  user_id\n",
       "0         login     2747\n",
       "2  product_page     1780\n",
       "3      purchase      872\n",
       "1  product_cart      824"
      ]
     },
     "execution_count": 42,
     "metadata": {},
     "output_type": "execute_result"
    }
   ],
   "source": [
    "# Analizemos el embudo para el grupo de control A\n",
    "\n",
    "funnel_A= funnel[funnel[\"group\"]==\"A\"]  # Filtramos solo eventos del grupo de control A\n",
    "\n",
    "# Calculamos el numero de usuarios por cada etapa del embudo en el grupo A\n",
    "\n",
    "users_count_A = funnel_A.groupby(\"event_name\", as_index=False).agg({\"user_id\": \"nunique\"}).sort_values(by=\"user_id\", ascending=False)\n",
    "users_count_A"
   ]
  },
  {
   "cell_type": "code",
   "execution_count": 43,
   "metadata": {},
   "outputs": [
    {
     "data": {
      "text/plain": [
       "event_name\n",
       "login           1.000000\n",
       "product_page    0.647980\n",
       "purchase        0.317437\n",
       "product_cart    0.299964\n",
       "Name: user_id, dtype: float64"
      ]
     },
     "execution_count": 43,
     "metadata": {},
     "output_type": "execute_result"
    }
   ],
   "source": [
    "# Analizamos la proporcion de usuarios que realizaron la acción al menos una vez\n",
    "\n",
    "(funnel_A.groupby(\"event_name\")[\"user_id\"].nunique() / funnel_A[\"user_id\"].nunique()).sort_values(ascending=False)\n"
   ]
  },
  {
   "cell_type": "code",
   "execution_count": 44,
   "metadata": {},
   "outputs": [
    {
     "data": {
      "application/vnd.plotly.v1+json": {
       "config": {
        "plotlyServerURL": "https://plot.ly"
       },
       "data": [
        {
         "type": "funnel",
         "x": [
          2747,
          1780,
          872,
          824
         ],
         "y": [
          "login",
          "product_page",
          "purchase",
          "product_cart"
         ]
        }
       ],
       "layout": {
        "template": {
         "data": {
          "bar": [
           {
            "error_x": {
             "color": "#2a3f5f"
            },
            "error_y": {
             "color": "#2a3f5f"
            },
            "marker": {
             "line": {
              "color": "#E5ECF6",
              "width": 0.5
             },
             "pattern": {
              "fillmode": "overlay",
              "size": 10,
              "solidity": 0.2
             }
            },
            "type": "bar"
           }
          ],
          "barpolar": [
           {
            "marker": {
             "line": {
              "color": "#E5ECF6",
              "width": 0.5
             },
             "pattern": {
              "fillmode": "overlay",
              "size": 10,
              "solidity": 0.2
             }
            },
            "type": "barpolar"
           }
          ],
          "carpet": [
           {
            "aaxis": {
             "endlinecolor": "#2a3f5f",
             "gridcolor": "white",
             "linecolor": "white",
             "minorgridcolor": "white",
             "startlinecolor": "#2a3f5f"
            },
            "baxis": {
             "endlinecolor": "#2a3f5f",
             "gridcolor": "white",
             "linecolor": "white",
             "minorgridcolor": "white",
             "startlinecolor": "#2a3f5f"
            },
            "type": "carpet"
           }
          ],
          "choropleth": [
           {
            "colorbar": {
             "outlinewidth": 0,
             "ticks": ""
            },
            "type": "choropleth"
           }
          ],
          "contour": [
           {
            "colorbar": {
             "outlinewidth": 0,
             "ticks": ""
            },
            "colorscale": [
             [
              0,
              "#0d0887"
             ],
             [
              0.1111111111111111,
              "#46039f"
             ],
             [
              0.2222222222222222,
              "#7201a8"
             ],
             [
              0.3333333333333333,
              "#9c179e"
             ],
             [
              0.4444444444444444,
              "#bd3786"
             ],
             [
              0.5555555555555556,
              "#d8576b"
             ],
             [
              0.6666666666666666,
              "#ed7953"
             ],
             [
              0.7777777777777778,
              "#fb9f3a"
             ],
             [
              0.8888888888888888,
              "#fdca26"
             ],
             [
              1,
              "#f0f921"
             ]
            ],
            "type": "contour"
           }
          ],
          "contourcarpet": [
           {
            "colorbar": {
             "outlinewidth": 0,
             "ticks": ""
            },
            "type": "contourcarpet"
           }
          ],
          "heatmap": [
           {
            "colorbar": {
             "outlinewidth": 0,
             "ticks": ""
            },
            "colorscale": [
             [
              0,
              "#0d0887"
             ],
             [
              0.1111111111111111,
              "#46039f"
             ],
             [
              0.2222222222222222,
              "#7201a8"
             ],
             [
              0.3333333333333333,
              "#9c179e"
             ],
             [
              0.4444444444444444,
              "#bd3786"
             ],
             [
              0.5555555555555556,
              "#d8576b"
             ],
             [
              0.6666666666666666,
              "#ed7953"
             ],
             [
              0.7777777777777778,
              "#fb9f3a"
             ],
             [
              0.8888888888888888,
              "#fdca26"
             ],
             [
              1,
              "#f0f921"
             ]
            ],
            "type": "heatmap"
           }
          ],
          "heatmapgl": [
           {
            "colorbar": {
             "outlinewidth": 0,
             "ticks": ""
            },
            "colorscale": [
             [
              0,
              "#0d0887"
             ],
             [
              0.1111111111111111,
              "#46039f"
             ],
             [
              0.2222222222222222,
              "#7201a8"
             ],
             [
              0.3333333333333333,
              "#9c179e"
             ],
             [
              0.4444444444444444,
              "#bd3786"
             ],
             [
              0.5555555555555556,
              "#d8576b"
             ],
             [
              0.6666666666666666,
              "#ed7953"
             ],
             [
              0.7777777777777778,
              "#fb9f3a"
             ],
             [
              0.8888888888888888,
              "#fdca26"
             ],
             [
              1,
              "#f0f921"
             ]
            ],
            "type": "heatmapgl"
           }
          ],
          "histogram": [
           {
            "marker": {
             "pattern": {
              "fillmode": "overlay",
              "size": 10,
              "solidity": 0.2
             }
            },
            "type": "histogram"
           }
          ],
          "histogram2d": [
           {
            "colorbar": {
             "outlinewidth": 0,
             "ticks": ""
            },
            "colorscale": [
             [
              0,
              "#0d0887"
             ],
             [
              0.1111111111111111,
              "#46039f"
             ],
             [
              0.2222222222222222,
              "#7201a8"
             ],
             [
              0.3333333333333333,
              "#9c179e"
             ],
             [
              0.4444444444444444,
              "#bd3786"
             ],
             [
              0.5555555555555556,
              "#d8576b"
             ],
             [
              0.6666666666666666,
              "#ed7953"
             ],
             [
              0.7777777777777778,
              "#fb9f3a"
             ],
             [
              0.8888888888888888,
              "#fdca26"
             ],
             [
              1,
              "#f0f921"
             ]
            ],
            "type": "histogram2d"
           }
          ],
          "histogram2dcontour": [
           {
            "colorbar": {
             "outlinewidth": 0,
             "ticks": ""
            },
            "colorscale": [
             [
              0,
              "#0d0887"
             ],
             [
              0.1111111111111111,
              "#46039f"
             ],
             [
              0.2222222222222222,
              "#7201a8"
             ],
             [
              0.3333333333333333,
              "#9c179e"
             ],
             [
              0.4444444444444444,
              "#bd3786"
             ],
             [
              0.5555555555555556,
              "#d8576b"
             ],
             [
              0.6666666666666666,
              "#ed7953"
             ],
             [
              0.7777777777777778,
              "#fb9f3a"
             ],
             [
              0.8888888888888888,
              "#fdca26"
             ],
             [
              1,
              "#f0f921"
             ]
            ],
            "type": "histogram2dcontour"
           }
          ],
          "mesh3d": [
           {
            "colorbar": {
             "outlinewidth": 0,
             "ticks": ""
            },
            "type": "mesh3d"
           }
          ],
          "parcoords": [
           {
            "line": {
             "colorbar": {
              "outlinewidth": 0,
              "ticks": ""
             }
            },
            "type": "parcoords"
           }
          ],
          "pie": [
           {
            "automargin": true,
            "type": "pie"
           }
          ],
          "scatter": [
           {
            "fillpattern": {
             "fillmode": "overlay",
             "size": 10,
             "solidity": 0.2
            },
            "type": "scatter"
           }
          ],
          "scatter3d": [
           {
            "line": {
             "colorbar": {
              "outlinewidth": 0,
              "ticks": ""
             }
            },
            "marker": {
             "colorbar": {
              "outlinewidth": 0,
              "ticks": ""
             }
            },
            "type": "scatter3d"
           }
          ],
          "scattercarpet": [
           {
            "marker": {
             "colorbar": {
              "outlinewidth": 0,
              "ticks": ""
             }
            },
            "type": "scattercarpet"
           }
          ],
          "scattergeo": [
           {
            "marker": {
             "colorbar": {
              "outlinewidth": 0,
              "ticks": ""
             }
            },
            "type": "scattergeo"
           }
          ],
          "scattergl": [
           {
            "marker": {
             "colorbar": {
              "outlinewidth": 0,
              "ticks": ""
             }
            },
            "type": "scattergl"
           }
          ],
          "scattermapbox": [
           {
            "marker": {
             "colorbar": {
              "outlinewidth": 0,
              "ticks": ""
             }
            },
            "type": "scattermapbox"
           }
          ],
          "scatterpolar": [
           {
            "marker": {
             "colorbar": {
              "outlinewidth": 0,
              "ticks": ""
             }
            },
            "type": "scatterpolar"
           }
          ],
          "scatterpolargl": [
           {
            "marker": {
             "colorbar": {
              "outlinewidth": 0,
              "ticks": ""
             }
            },
            "type": "scatterpolargl"
           }
          ],
          "scatterternary": [
           {
            "marker": {
             "colorbar": {
              "outlinewidth": 0,
              "ticks": ""
             }
            },
            "type": "scatterternary"
           }
          ],
          "surface": [
           {
            "colorbar": {
             "outlinewidth": 0,
             "ticks": ""
            },
            "colorscale": [
             [
              0,
              "#0d0887"
             ],
             [
              0.1111111111111111,
              "#46039f"
             ],
             [
              0.2222222222222222,
              "#7201a8"
             ],
             [
              0.3333333333333333,
              "#9c179e"
             ],
             [
              0.4444444444444444,
              "#bd3786"
             ],
             [
              0.5555555555555556,
              "#d8576b"
             ],
             [
              0.6666666666666666,
              "#ed7953"
             ],
             [
              0.7777777777777778,
              "#fb9f3a"
             ],
             [
              0.8888888888888888,
              "#fdca26"
             ],
             [
              1,
              "#f0f921"
             ]
            ],
            "type": "surface"
           }
          ],
          "table": [
           {
            "cells": {
             "fill": {
              "color": "#EBF0F8"
             },
             "line": {
              "color": "white"
             }
            },
            "header": {
             "fill": {
              "color": "#C8D4E3"
             },
             "line": {
              "color": "white"
             }
            },
            "type": "table"
           }
          ]
         },
         "layout": {
          "annotationdefaults": {
           "arrowcolor": "#2a3f5f",
           "arrowhead": 0,
           "arrowwidth": 1
          },
          "autotypenumbers": "strict",
          "coloraxis": {
           "colorbar": {
            "outlinewidth": 0,
            "ticks": ""
           }
          },
          "colorscale": {
           "diverging": [
            [
             0,
             "#8e0152"
            ],
            [
             0.1,
             "#c51b7d"
            ],
            [
             0.2,
             "#de77ae"
            ],
            [
             0.3,
             "#f1b6da"
            ],
            [
             0.4,
             "#fde0ef"
            ],
            [
             0.5,
             "#f7f7f7"
            ],
            [
             0.6,
             "#e6f5d0"
            ],
            [
             0.7,
             "#b8e186"
            ],
            [
             0.8,
             "#7fbc41"
            ],
            [
             0.9,
             "#4d9221"
            ],
            [
             1,
             "#276419"
            ]
           ],
           "sequential": [
            [
             0,
             "#0d0887"
            ],
            [
             0.1111111111111111,
             "#46039f"
            ],
            [
             0.2222222222222222,
             "#7201a8"
            ],
            [
             0.3333333333333333,
             "#9c179e"
            ],
            [
             0.4444444444444444,
             "#bd3786"
            ],
            [
             0.5555555555555556,
             "#d8576b"
            ],
            [
             0.6666666666666666,
             "#ed7953"
            ],
            [
             0.7777777777777778,
             "#fb9f3a"
            ],
            [
             0.8888888888888888,
             "#fdca26"
            ],
            [
             1,
             "#f0f921"
            ]
           ],
           "sequentialminus": [
            [
             0,
             "#0d0887"
            ],
            [
             0.1111111111111111,
             "#46039f"
            ],
            [
             0.2222222222222222,
             "#7201a8"
            ],
            [
             0.3333333333333333,
             "#9c179e"
            ],
            [
             0.4444444444444444,
             "#bd3786"
            ],
            [
             0.5555555555555556,
             "#d8576b"
            ],
            [
             0.6666666666666666,
             "#ed7953"
            ],
            [
             0.7777777777777778,
             "#fb9f3a"
            ],
            [
             0.8888888888888888,
             "#fdca26"
            ],
            [
             1,
             "#f0f921"
            ]
           ]
          },
          "colorway": [
           "#636efa",
           "#EF553B",
           "#00cc96",
           "#ab63fa",
           "#FFA15A",
           "#19d3f3",
           "#FF6692",
           "#B6E880",
           "#FF97FF",
           "#FECB52"
          ],
          "font": {
           "color": "#2a3f5f"
          },
          "geo": {
           "bgcolor": "white",
           "lakecolor": "white",
           "landcolor": "#E5ECF6",
           "showlakes": true,
           "showland": true,
           "subunitcolor": "white"
          },
          "hoverlabel": {
           "align": "left"
          },
          "hovermode": "closest",
          "mapbox": {
           "style": "light"
          },
          "paper_bgcolor": "white",
          "plot_bgcolor": "#E5ECF6",
          "polar": {
           "angularaxis": {
            "gridcolor": "white",
            "linecolor": "white",
            "ticks": ""
           },
           "bgcolor": "#E5ECF6",
           "radialaxis": {
            "gridcolor": "white",
            "linecolor": "white",
            "ticks": ""
           }
          },
          "scene": {
           "xaxis": {
            "backgroundcolor": "#E5ECF6",
            "gridcolor": "white",
            "gridwidth": 2,
            "linecolor": "white",
            "showbackground": true,
            "ticks": "",
            "zerolinecolor": "white"
           },
           "yaxis": {
            "backgroundcolor": "#E5ECF6",
            "gridcolor": "white",
            "gridwidth": 2,
            "linecolor": "white",
            "showbackground": true,
            "ticks": "",
            "zerolinecolor": "white"
           },
           "zaxis": {
            "backgroundcolor": "#E5ECF6",
            "gridcolor": "white",
            "gridwidth": 2,
            "linecolor": "white",
            "showbackground": true,
            "ticks": "",
            "zerolinecolor": "white"
           }
          },
          "shapedefaults": {
           "line": {
            "color": "#2a3f5f"
           }
          },
          "ternary": {
           "aaxis": {
            "gridcolor": "white",
            "linecolor": "white",
            "ticks": ""
           },
           "baxis": {
            "gridcolor": "white",
            "linecolor": "white",
            "ticks": ""
           },
           "bgcolor": "#E5ECF6",
           "caxis": {
            "gridcolor": "white",
            "linecolor": "white",
            "ticks": ""
           }
          },
          "title": {
           "x": 0.05
          },
          "xaxis": {
           "automargin": true,
           "gridcolor": "white",
           "linecolor": "white",
           "ticks": "",
           "title": {
            "standoff": 15
           },
           "zerolinecolor": "white",
           "zerolinewidth": 2
          },
          "yaxis": {
           "automargin": true,
           "gridcolor": "white",
           "linecolor": "white",
           "ticks": "",
           "title": {
            "standoff": 15
           },
           "zerolinecolor": "white",
           "zerolinewidth": 2
          }
         }
        }
       }
      }
     },
     "metadata": {},
     "output_type": "display_data"
    }
   ],
   "source": [
    "# Graficamos embudo simple del grupo de control A\n",
    "\n",
    "y_A = users_count_A[\"event_name\"]\n",
    "x_A = users_count_A[\"user_id\"]\n",
    "\n",
    "\n",
    "fig = go.Figure(go.Funnel(y=y_A, x=x_A))\n",
    "fig.show()"
   ]
  },
  {
   "cell_type": "markdown",
   "metadata": {},
   "source": [
    "**OBSERVACIONES: En el grupo de control A, de 2747 usuarios que se logearon 1780 llegaron a product_page y despues solo 824 llegaron a product_cart. Parece que por alguna razon los usuarios del grupo A no siguen la ruta prevista y terminan en el evento purchase sin antes pasar por product_cart, en este caso, puede que tengamos un error en los datos de lectura del tiempo en los que los usuarios realizan cada evento ya que deberian agregar el producto al carrito antes de hacer la compra esto puede ser un error de los datos tomados durante la prueba.**"
   ]
  },
  {
   "cell_type": "code",
   "execution_count": 45,
   "metadata": {},
   "outputs": [
    {
     "data": {
      "text/html": [
       "<div>\n",
       "<style scoped>\n",
       "    .dataframe tbody tr th:only-of-type {\n",
       "        vertical-align: middle;\n",
       "    }\n",
       "\n",
       "    .dataframe tbody tr th {\n",
       "        vertical-align: top;\n",
       "    }\n",
       "\n",
       "    .dataframe thead th {\n",
       "        text-align: right;\n",
       "    }\n",
       "</style>\n",
       "<table border=\"1\" class=\"dataframe\">\n",
       "  <thead>\n",
       "    <tr style=\"text-align: right;\">\n",
       "      <th></th>\n",
       "      <th>event_name</th>\n",
       "      <th>user_id</th>\n",
       "    </tr>\n",
       "  </thead>\n",
       "  <tbody>\n",
       "    <tr>\n",
       "      <th>0</th>\n",
       "      <td>login</td>\n",
       "      <td>927</td>\n",
       "    </tr>\n",
       "    <tr>\n",
       "      <th>2</th>\n",
       "      <td>product_page</td>\n",
       "      <td>523</td>\n",
       "    </tr>\n",
       "    <tr>\n",
       "      <th>3</th>\n",
       "      <td>purchase</td>\n",
       "      <td>256</td>\n",
       "    </tr>\n",
       "    <tr>\n",
       "      <th>1</th>\n",
       "      <td>product_cart</td>\n",
       "      <td>255</td>\n",
       "    </tr>\n",
       "  </tbody>\n",
       "</table>\n",
       "</div>"
      ],
      "text/plain": [
       "     event_name  user_id\n",
       "0         login      927\n",
       "2  product_page      523\n",
       "3      purchase      256\n",
       "1  product_cart      255"
      ]
     },
     "execution_count": 45,
     "metadata": {},
     "output_type": "execute_result"
    }
   ],
   "source": [
    "# Analizamos el embudo simple para el grupo B\n",
    "\n",
    "funnel_B = funnel[funnel[\"group\"]==\"B\"]\n",
    "\n",
    "users_count_B = funnel_B.groupby(\"event_name\", as_index=False).agg({\"user_id\": \"nunique\"}).sort_values(by=\"user_id\", ascending=False)\n",
    "users_count_B \n"
   ]
  },
  {
   "cell_type": "code",
   "execution_count": 46,
   "metadata": {},
   "outputs": [
    {
     "data": {
      "text/plain": [
       "(5282, 7)"
      ]
     },
     "execution_count": 46,
     "metadata": {},
     "output_type": "execute_result"
    }
   ],
   "source": [
    "funnel_B.shape"
   ]
  },
  {
   "cell_type": "code",
   "execution_count": 47,
   "metadata": {},
   "outputs": [
    {
     "data": {
      "application/vnd.plotly.v1+json": {
       "config": {
        "plotlyServerURL": "https://plot.ly"
       },
       "data": [
        {
         "type": "funnel",
         "x": [
          927,
          523,
          256,
          255
         ],
         "y": [
          "login",
          "product_page",
          "purchase",
          "product_cart"
         ]
        }
       ],
       "layout": {
        "template": {
         "data": {
          "bar": [
           {
            "error_x": {
             "color": "#2a3f5f"
            },
            "error_y": {
             "color": "#2a3f5f"
            },
            "marker": {
             "line": {
              "color": "#E5ECF6",
              "width": 0.5
             },
             "pattern": {
              "fillmode": "overlay",
              "size": 10,
              "solidity": 0.2
             }
            },
            "type": "bar"
           }
          ],
          "barpolar": [
           {
            "marker": {
             "line": {
              "color": "#E5ECF6",
              "width": 0.5
             },
             "pattern": {
              "fillmode": "overlay",
              "size": 10,
              "solidity": 0.2
             }
            },
            "type": "barpolar"
           }
          ],
          "carpet": [
           {
            "aaxis": {
             "endlinecolor": "#2a3f5f",
             "gridcolor": "white",
             "linecolor": "white",
             "minorgridcolor": "white",
             "startlinecolor": "#2a3f5f"
            },
            "baxis": {
             "endlinecolor": "#2a3f5f",
             "gridcolor": "white",
             "linecolor": "white",
             "minorgridcolor": "white",
             "startlinecolor": "#2a3f5f"
            },
            "type": "carpet"
           }
          ],
          "choropleth": [
           {
            "colorbar": {
             "outlinewidth": 0,
             "ticks": ""
            },
            "type": "choropleth"
           }
          ],
          "contour": [
           {
            "colorbar": {
             "outlinewidth": 0,
             "ticks": ""
            },
            "colorscale": [
             [
              0,
              "#0d0887"
             ],
             [
              0.1111111111111111,
              "#46039f"
             ],
             [
              0.2222222222222222,
              "#7201a8"
             ],
             [
              0.3333333333333333,
              "#9c179e"
             ],
             [
              0.4444444444444444,
              "#bd3786"
             ],
             [
              0.5555555555555556,
              "#d8576b"
             ],
             [
              0.6666666666666666,
              "#ed7953"
             ],
             [
              0.7777777777777778,
              "#fb9f3a"
             ],
             [
              0.8888888888888888,
              "#fdca26"
             ],
             [
              1,
              "#f0f921"
             ]
            ],
            "type": "contour"
           }
          ],
          "contourcarpet": [
           {
            "colorbar": {
             "outlinewidth": 0,
             "ticks": ""
            },
            "type": "contourcarpet"
           }
          ],
          "heatmap": [
           {
            "colorbar": {
             "outlinewidth": 0,
             "ticks": ""
            },
            "colorscale": [
             [
              0,
              "#0d0887"
             ],
             [
              0.1111111111111111,
              "#46039f"
             ],
             [
              0.2222222222222222,
              "#7201a8"
             ],
             [
              0.3333333333333333,
              "#9c179e"
             ],
             [
              0.4444444444444444,
              "#bd3786"
             ],
             [
              0.5555555555555556,
              "#d8576b"
             ],
             [
              0.6666666666666666,
              "#ed7953"
             ],
             [
              0.7777777777777778,
              "#fb9f3a"
             ],
             [
              0.8888888888888888,
              "#fdca26"
             ],
             [
              1,
              "#f0f921"
             ]
            ],
            "type": "heatmap"
           }
          ],
          "heatmapgl": [
           {
            "colorbar": {
             "outlinewidth": 0,
             "ticks": ""
            },
            "colorscale": [
             [
              0,
              "#0d0887"
             ],
             [
              0.1111111111111111,
              "#46039f"
             ],
             [
              0.2222222222222222,
              "#7201a8"
             ],
             [
              0.3333333333333333,
              "#9c179e"
             ],
             [
              0.4444444444444444,
              "#bd3786"
             ],
             [
              0.5555555555555556,
              "#d8576b"
             ],
             [
              0.6666666666666666,
              "#ed7953"
             ],
             [
              0.7777777777777778,
              "#fb9f3a"
             ],
             [
              0.8888888888888888,
              "#fdca26"
             ],
             [
              1,
              "#f0f921"
             ]
            ],
            "type": "heatmapgl"
           }
          ],
          "histogram": [
           {
            "marker": {
             "pattern": {
              "fillmode": "overlay",
              "size": 10,
              "solidity": 0.2
             }
            },
            "type": "histogram"
           }
          ],
          "histogram2d": [
           {
            "colorbar": {
             "outlinewidth": 0,
             "ticks": ""
            },
            "colorscale": [
             [
              0,
              "#0d0887"
             ],
             [
              0.1111111111111111,
              "#46039f"
             ],
             [
              0.2222222222222222,
              "#7201a8"
             ],
             [
              0.3333333333333333,
              "#9c179e"
             ],
             [
              0.4444444444444444,
              "#bd3786"
             ],
             [
              0.5555555555555556,
              "#d8576b"
             ],
             [
              0.6666666666666666,
              "#ed7953"
             ],
             [
              0.7777777777777778,
              "#fb9f3a"
             ],
             [
              0.8888888888888888,
              "#fdca26"
             ],
             [
              1,
              "#f0f921"
             ]
            ],
            "type": "histogram2d"
           }
          ],
          "histogram2dcontour": [
           {
            "colorbar": {
             "outlinewidth": 0,
             "ticks": ""
            },
            "colorscale": [
             [
              0,
              "#0d0887"
             ],
             [
              0.1111111111111111,
              "#46039f"
             ],
             [
              0.2222222222222222,
              "#7201a8"
             ],
             [
              0.3333333333333333,
              "#9c179e"
             ],
             [
              0.4444444444444444,
              "#bd3786"
             ],
             [
              0.5555555555555556,
              "#d8576b"
             ],
             [
              0.6666666666666666,
              "#ed7953"
             ],
             [
              0.7777777777777778,
              "#fb9f3a"
             ],
             [
              0.8888888888888888,
              "#fdca26"
             ],
             [
              1,
              "#f0f921"
             ]
            ],
            "type": "histogram2dcontour"
           }
          ],
          "mesh3d": [
           {
            "colorbar": {
             "outlinewidth": 0,
             "ticks": ""
            },
            "type": "mesh3d"
           }
          ],
          "parcoords": [
           {
            "line": {
             "colorbar": {
              "outlinewidth": 0,
              "ticks": ""
             }
            },
            "type": "parcoords"
           }
          ],
          "pie": [
           {
            "automargin": true,
            "type": "pie"
           }
          ],
          "scatter": [
           {
            "fillpattern": {
             "fillmode": "overlay",
             "size": 10,
             "solidity": 0.2
            },
            "type": "scatter"
           }
          ],
          "scatter3d": [
           {
            "line": {
             "colorbar": {
              "outlinewidth": 0,
              "ticks": ""
             }
            },
            "marker": {
             "colorbar": {
              "outlinewidth": 0,
              "ticks": ""
             }
            },
            "type": "scatter3d"
           }
          ],
          "scattercarpet": [
           {
            "marker": {
             "colorbar": {
              "outlinewidth": 0,
              "ticks": ""
             }
            },
            "type": "scattercarpet"
           }
          ],
          "scattergeo": [
           {
            "marker": {
             "colorbar": {
              "outlinewidth": 0,
              "ticks": ""
             }
            },
            "type": "scattergeo"
           }
          ],
          "scattergl": [
           {
            "marker": {
             "colorbar": {
              "outlinewidth": 0,
              "ticks": ""
             }
            },
            "type": "scattergl"
           }
          ],
          "scattermapbox": [
           {
            "marker": {
             "colorbar": {
              "outlinewidth": 0,
              "ticks": ""
             }
            },
            "type": "scattermapbox"
           }
          ],
          "scatterpolar": [
           {
            "marker": {
             "colorbar": {
              "outlinewidth": 0,
              "ticks": ""
             }
            },
            "type": "scatterpolar"
           }
          ],
          "scatterpolargl": [
           {
            "marker": {
             "colorbar": {
              "outlinewidth": 0,
              "ticks": ""
             }
            },
            "type": "scatterpolargl"
           }
          ],
          "scatterternary": [
           {
            "marker": {
             "colorbar": {
              "outlinewidth": 0,
              "ticks": ""
             }
            },
            "type": "scatterternary"
           }
          ],
          "surface": [
           {
            "colorbar": {
             "outlinewidth": 0,
             "ticks": ""
            },
            "colorscale": [
             [
              0,
              "#0d0887"
             ],
             [
              0.1111111111111111,
              "#46039f"
             ],
             [
              0.2222222222222222,
              "#7201a8"
             ],
             [
              0.3333333333333333,
              "#9c179e"
             ],
             [
              0.4444444444444444,
              "#bd3786"
             ],
             [
              0.5555555555555556,
              "#d8576b"
             ],
             [
              0.6666666666666666,
              "#ed7953"
             ],
             [
              0.7777777777777778,
              "#fb9f3a"
             ],
             [
              0.8888888888888888,
              "#fdca26"
             ],
             [
              1,
              "#f0f921"
             ]
            ],
            "type": "surface"
           }
          ],
          "table": [
           {
            "cells": {
             "fill": {
              "color": "#EBF0F8"
             },
             "line": {
              "color": "white"
             }
            },
            "header": {
             "fill": {
              "color": "#C8D4E3"
             },
             "line": {
              "color": "white"
             }
            },
            "type": "table"
           }
          ]
         },
         "layout": {
          "annotationdefaults": {
           "arrowcolor": "#2a3f5f",
           "arrowhead": 0,
           "arrowwidth": 1
          },
          "autotypenumbers": "strict",
          "coloraxis": {
           "colorbar": {
            "outlinewidth": 0,
            "ticks": ""
           }
          },
          "colorscale": {
           "diverging": [
            [
             0,
             "#8e0152"
            ],
            [
             0.1,
             "#c51b7d"
            ],
            [
             0.2,
             "#de77ae"
            ],
            [
             0.3,
             "#f1b6da"
            ],
            [
             0.4,
             "#fde0ef"
            ],
            [
             0.5,
             "#f7f7f7"
            ],
            [
             0.6,
             "#e6f5d0"
            ],
            [
             0.7,
             "#b8e186"
            ],
            [
             0.8,
             "#7fbc41"
            ],
            [
             0.9,
             "#4d9221"
            ],
            [
             1,
             "#276419"
            ]
           ],
           "sequential": [
            [
             0,
             "#0d0887"
            ],
            [
             0.1111111111111111,
             "#46039f"
            ],
            [
             0.2222222222222222,
             "#7201a8"
            ],
            [
             0.3333333333333333,
             "#9c179e"
            ],
            [
             0.4444444444444444,
             "#bd3786"
            ],
            [
             0.5555555555555556,
             "#d8576b"
            ],
            [
             0.6666666666666666,
             "#ed7953"
            ],
            [
             0.7777777777777778,
             "#fb9f3a"
            ],
            [
             0.8888888888888888,
             "#fdca26"
            ],
            [
             1,
             "#f0f921"
            ]
           ],
           "sequentialminus": [
            [
             0,
             "#0d0887"
            ],
            [
             0.1111111111111111,
             "#46039f"
            ],
            [
             0.2222222222222222,
             "#7201a8"
            ],
            [
             0.3333333333333333,
             "#9c179e"
            ],
            [
             0.4444444444444444,
             "#bd3786"
            ],
            [
             0.5555555555555556,
             "#d8576b"
            ],
            [
             0.6666666666666666,
             "#ed7953"
            ],
            [
             0.7777777777777778,
             "#fb9f3a"
            ],
            [
             0.8888888888888888,
             "#fdca26"
            ],
            [
             1,
             "#f0f921"
            ]
           ]
          },
          "colorway": [
           "#636efa",
           "#EF553B",
           "#00cc96",
           "#ab63fa",
           "#FFA15A",
           "#19d3f3",
           "#FF6692",
           "#B6E880",
           "#FF97FF",
           "#FECB52"
          ],
          "font": {
           "color": "#2a3f5f"
          },
          "geo": {
           "bgcolor": "white",
           "lakecolor": "white",
           "landcolor": "#E5ECF6",
           "showlakes": true,
           "showland": true,
           "subunitcolor": "white"
          },
          "hoverlabel": {
           "align": "left"
          },
          "hovermode": "closest",
          "mapbox": {
           "style": "light"
          },
          "paper_bgcolor": "white",
          "plot_bgcolor": "#E5ECF6",
          "polar": {
           "angularaxis": {
            "gridcolor": "white",
            "linecolor": "white",
            "ticks": ""
           },
           "bgcolor": "#E5ECF6",
           "radialaxis": {
            "gridcolor": "white",
            "linecolor": "white",
            "ticks": ""
           }
          },
          "scene": {
           "xaxis": {
            "backgroundcolor": "#E5ECF6",
            "gridcolor": "white",
            "gridwidth": 2,
            "linecolor": "white",
            "showbackground": true,
            "ticks": "",
            "zerolinecolor": "white"
           },
           "yaxis": {
            "backgroundcolor": "#E5ECF6",
            "gridcolor": "white",
            "gridwidth": 2,
            "linecolor": "white",
            "showbackground": true,
            "ticks": "",
            "zerolinecolor": "white"
           },
           "zaxis": {
            "backgroundcolor": "#E5ECF6",
            "gridcolor": "white",
            "gridwidth": 2,
            "linecolor": "white",
            "showbackground": true,
            "ticks": "",
            "zerolinecolor": "white"
           }
          },
          "shapedefaults": {
           "line": {
            "color": "#2a3f5f"
           }
          },
          "ternary": {
           "aaxis": {
            "gridcolor": "white",
            "linecolor": "white",
            "ticks": ""
           },
           "baxis": {
            "gridcolor": "white",
            "linecolor": "white",
            "ticks": ""
           },
           "bgcolor": "#E5ECF6",
           "caxis": {
            "gridcolor": "white",
            "linecolor": "white",
            "ticks": ""
           }
          },
          "title": {
           "x": 0.05
          },
          "xaxis": {
           "automargin": true,
           "gridcolor": "white",
           "linecolor": "white",
           "ticks": "",
           "title": {
            "standoff": 15
           },
           "zerolinecolor": "white",
           "zerolinewidth": 2
          },
          "yaxis": {
           "automargin": true,
           "gridcolor": "white",
           "linecolor": "white",
           "ticks": "",
           "title": {
            "standoff": 15
           },
           "zerolinecolor": "white",
           "zerolinewidth": 2
          }
         }
        }
       }
      }
     },
     "metadata": {},
     "output_type": "display_data"
    }
   ],
   "source": [
    "# Graficamos embudo simple del grupo B\n",
    "\n",
    "y_B = users_count_B[\"event_name\"]\n",
    "x_B = users_count_B[\"user_id\"]\n",
    "\n",
    "\n",
    "fig = go.Figure(go.Funnel(y=y_B, x=x_B))\n",
    "fig.show()"
   ]
  },
  {
   "cell_type": "markdown",
   "metadata": {},
   "source": [
    "OBSERVACIONES: El enmbudo tiene 4 etapas:\n",
    "\n",
    "- login\n",
    "- product_page\n",
    "- product_cart\n",
    "- purchase\n",
    "\n",
    "En el grupo A el 49% de los usuarios que llegaron a la product_page hicieron pedidos, en el grupo B aproximadamente el 48.9% de los usuarios que vieron la product_page hicieron pedidos o compras. Por ahora se puede notar que la conversion en esta etapa en especifico casi no cambia en comparacion a las anteriores."
   ]
  },
  {
   "cell_type": "markdown",
   "metadata": {},
   "source": [
    "### Embudos con secuencia de eventos"
   ]
  },
  {
   "cell_type": "code",
   "execution_count": 48,
   "metadata": {},
   "outputs": [
    {
     "data": {
      "text/html": [
       "<div>\n",
       "<style scoped>\n",
       "    .dataframe tbody tr th:only-of-type {\n",
       "        vertical-align: middle;\n",
       "    }\n",
       "\n",
       "    .dataframe tbody tr th {\n",
       "        vertical-align: top;\n",
       "    }\n",
       "\n",
       "    .dataframe thead th {\n",
       "        text-align: right;\n",
       "    }\n",
       "</style>\n",
       "<table border=\"1\" class=\"dataframe\">\n",
       "  <thead>\n",
       "    <tr style=\"text-align: right;\">\n",
       "      <th>event_name</th>\n",
       "      <th>login</th>\n",
       "      <th>product_cart</th>\n",
       "      <th>product_page</th>\n",
       "      <th>purchase</th>\n",
       "    </tr>\n",
       "    <tr>\n",
       "      <th>user_id</th>\n",
       "      <th></th>\n",
       "      <th></th>\n",
       "      <th></th>\n",
       "      <th></th>\n",
       "    </tr>\n",
       "  </thead>\n",
       "  <tbody>\n",
       "    <tr>\n",
       "      <th>0010A1C096941592</th>\n",
       "      <td>2020-12-17 21:07:27</td>\n",
       "      <td>NaT</td>\n",
       "      <td>2020-12-17 21:07:27</td>\n",
       "      <td>2020-12-17 21:07:27</td>\n",
       "    </tr>\n",
       "    <tr>\n",
       "      <th>00341D8401F0F665</th>\n",
       "      <td>2020-12-21 11:14:50</td>\n",
       "      <td>NaT</td>\n",
       "      <td>NaT</td>\n",
       "      <td>NaT</td>\n",
       "    </tr>\n",
       "    <tr>\n",
       "      <th>003DF44D7589BBD4</th>\n",
       "      <td>2020-12-17 06:17:49</td>\n",
       "      <td>2020-12-17 06:17:49</td>\n",
       "      <td>2020-12-17 06:17:49</td>\n",
       "      <td>NaT</td>\n",
       "    </tr>\n",
       "    <tr>\n",
       "      <th>00505E15A9D81546</th>\n",
       "      <td>2020-12-14 17:28:32</td>\n",
       "      <td>NaT</td>\n",
       "      <td>NaT</td>\n",
       "      <td>NaT</td>\n",
       "    </tr>\n",
       "    <tr>\n",
       "      <th>006E3E4E232CE760</th>\n",
       "      <td>2020-12-17 16:40:41</td>\n",
       "      <td>NaT</td>\n",
       "      <td>2020-12-17 16:40:42</td>\n",
       "      <td>NaT</td>\n",
       "    </tr>\n",
       "  </tbody>\n",
       "</table>\n",
       "</div>"
      ],
      "text/plain": [
       "event_name                     login        product_cart        product_page  \\\n",
       "user_id                                                                        \n",
       "0010A1C096941592 2020-12-17 21:07:27                 NaT 2020-12-17 21:07:27   \n",
       "00341D8401F0F665 2020-12-21 11:14:50                 NaT                 NaT   \n",
       "003DF44D7589BBD4 2020-12-17 06:17:49 2020-12-17 06:17:49 2020-12-17 06:17:49   \n",
       "00505E15A9D81546 2020-12-14 17:28:32                 NaT                 NaT   \n",
       "006E3E4E232CE760 2020-12-17 16:40:41                 NaT 2020-12-17 16:40:42   \n",
       "\n",
       "event_name                  purchase  \n",
       "user_id                               \n",
       "0010A1C096941592 2020-12-17 21:07:27  \n",
       "00341D8401F0F665                 NaT  \n",
       "003DF44D7589BBD4                 NaT  \n",
       "00505E15A9D81546                 NaT  \n",
       "006E3E4E232CE760                 NaT  "
      ]
     },
     "execution_count": 48,
     "metadata": {},
     "output_type": "execute_result"
    }
   ],
   "source": [
    "# Buscamos la hora del primer suceso de cada evento del grupo de control A\n",
    "\n",
    "users_A = funnel_A.pivot_table(index=\"user_id\",columns=\"event_name\", values=\"event_dt\", aggfunc=\"min\")\n",
    "\n",
    "users_A.head()"
   ]
  },
  {
   "cell_type": "code",
   "execution_count": 49,
   "metadata": {},
   "outputs": [
    {
     "name": "stdout",
     "output_type": "stream",
     "text": [
      "2747\n",
      "1012\n",
      "54\n",
      "0\n"
     ]
    }
   ],
   "source": [
    "# Guardamos las condiciones para cada etapa como variables\n",
    "\n",
    "step_1A = (~ users_A[\"login\"].isna())\n",
    "step_2A = step_1A & (users_A[\"product_page\"] > users_A[\"login\"])\n",
    "step_3A = step_2A & (users_A[\"product_cart\"] > users_A[\"product_page\"])\n",
    "step_4A = step_3A & (users_A[\"purchase\"] > users_A[\"product_cart\"])\n",
    "\n",
    "n_loginA = users_A[step_1A].shape[0]\n",
    "n_product_pageA = users_A[step_2A].shape[0]\n",
    "n_product_cartA = users_A[step_3A].shape[0]\n",
    "n_purchaseA = users_A[step_4A].shape[0]\n",
    "\n",
    "print(n_loginA)\n",
    "print(n_product_pageA)\n",
    "print(n_product_cartA)\n",
    "print(n_purchaseA)"
   ]
  },
  {
   "cell_type": "code",
   "execution_count": 50,
   "metadata": {},
   "outputs": [
    {
     "data": {
      "application/vnd.plotly.v1+json": {
       "config": {
        "plotlyServerURL": "https://plot.ly"
       },
       "data": [
        {
         "type": "funnel",
         "x": [
          2747,
          1012,
          54,
          0
         ],
         "y": [
          "login",
          "product_page",
          "product_cart",
          "purchase"
         ]
        }
       ],
       "layout": {
        "template": {
         "data": {
          "bar": [
           {
            "error_x": {
             "color": "#2a3f5f"
            },
            "error_y": {
             "color": "#2a3f5f"
            },
            "marker": {
             "line": {
              "color": "#E5ECF6",
              "width": 0.5
             },
             "pattern": {
              "fillmode": "overlay",
              "size": 10,
              "solidity": 0.2
             }
            },
            "type": "bar"
           }
          ],
          "barpolar": [
           {
            "marker": {
             "line": {
              "color": "#E5ECF6",
              "width": 0.5
             },
             "pattern": {
              "fillmode": "overlay",
              "size": 10,
              "solidity": 0.2
             }
            },
            "type": "barpolar"
           }
          ],
          "carpet": [
           {
            "aaxis": {
             "endlinecolor": "#2a3f5f",
             "gridcolor": "white",
             "linecolor": "white",
             "minorgridcolor": "white",
             "startlinecolor": "#2a3f5f"
            },
            "baxis": {
             "endlinecolor": "#2a3f5f",
             "gridcolor": "white",
             "linecolor": "white",
             "minorgridcolor": "white",
             "startlinecolor": "#2a3f5f"
            },
            "type": "carpet"
           }
          ],
          "choropleth": [
           {
            "colorbar": {
             "outlinewidth": 0,
             "ticks": ""
            },
            "type": "choropleth"
           }
          ],
          "contour": [
           {
            "colorbar": {
             "outlinewidth": 0,
             "ticks": ""
            },
            "colorscale": [
             [
              0,
              "#0d0887"
             ],
             [
              0.1111111111111111,
              "#46039f"
             ],
             [
              0.2222222222222222,
              "#7201a8"
             ],
             [
              0.3333333333333333,
              "#9c179e"
             ],
             [
              0.4444444444444444,
              "#bd3786"
             ],
             [
              0.5555555555555556,
              "#d8576b"
             ],
             [
              0.6666666666666666,
              "#ed7953"
             ],
             [
              0.7777777777777778,
              "#fb9f3a"
             ],
             [
              0.8888888888888888,
              "#fdca26"
             ],
             [
              1,
              "#f0f921"
             ]
            ],
            "type": "contour"
           }
          ],
          "contourcarpet": [
           {
            "colorbar": {
             "outlinewidth": 0,
             "ticks": ""
            },
            "type": "contourcarpet"
           }
          ],
          "heatmap": [
           {
            "colorbar": {
             "outlinewidth": 0,
             "ticks": ""
            },
            "colorscale": [
             [
              0,
              "#0d0887"
             ],
             [
              0.1111111111111111,
              "#46039f"
             ],
             [
              0.2222222222222222,
              "#7201a8"
             ],
             [
              0.3333333333333333,
              "#9c179e"
             ],
             [
              0.4444444444444444,
              "#bd3786"
             ],
             [
              0.5555555555555556,
              "#d8576b"
             ],
             [
              0.6666666666666666,
              "#ed7953"
             ],
             [
              0.7777777777777778,
              "#fb9f3a"
             ],
             [
              0.8888888888888888,
              "#fdca26"
             ],
             [
              1,
              "#f0f921"
             ]
            ],
            "type": "heatmap"
           }
          ],
          "heatmapgl": [
           {
            "colorbar": {
             "outlinewidth": 0,
             "ticks": ""
            },
            "colorscale": [
             [
              0,
              "#0d0887"
             ],
             [
              0.1111111111111111,
              "#46039f"
             ],
             [
              0.2222222222222222,
              "#7201a8"
             ],
             [
              0.3333333333333333,
              "#9c179e"
             ],
             [
              0.4444444444444444,
              "#bd3786"
             ],
             [
              0.5555555555555556,
              "#d8576b"
             ],
             [
              0.6666666666666666,
              "#ed7953"
             ],
             [
              0.7777777777777778,
              "#fb9f3a"
             ],
             [
              0.8888888888888888,
              "#fdca26"
             ],
             [
              1,
              "#f0f921"
             ]
            ],
            "type": "heatmapgl"
           }
          ],
          "histogram": [
           {
            "marker": {
             "pattern": {
              "fillmode": "overlay",
              "size": 10,
              "solidity": 0.2
             }
            },
            "type": "histogram"
           }
          ],
          "histogram2d": [
           {
            "colorbar": {
             "outlinewidth": 0,
             "ticks": ""
            },
            "colorscale": [
             [
              0,
              "#0d0887"
             ],
             [
              0.1111111111111111,
              "#46039f"
             ],
             [
              0.2222222222222222,
              "#7201a8"
             ],
             [
              0.3333333333333333,
              "#9c179e"
             ],
             [
              0.4444444444444444,
              "#bd3786"
             ],
             [
              0.5555555555555556,
              "#d8576b"
             ],
             [
              0.6666666666666666,
              "#ed7953"
             ],
             [
              0.7777777777777778,
              "#fb9f3a"
             ],
             [
              0.8888888888888888,
              "#fdca26"
             ],
             [
              1,
              "#f0f921"
             ]
            ],
            "type": "histogram2d"
           }
          ],
          "histogram2dcontour": [
           {
            "colorbar": {
             "outlinewidth": 0,
             "ticks": ""
            },
            "colorscale": [
             [
              0,
              "#0d0887"
             ],
             [
              0.1111111111111111,
              "#46039f"
             ],
             [
              0.2222222222222222,
              "#7201a8"
             ],
             [
              0.3333333333333333,
              "#9c179e"
             ],
             [
              0.4444444444444444,
              "#bd3786"
             ],
             [
              0.5555555555555556,
              "#d8576b"
             ],
             [
              0.6666666666666666,
              "#ed7953"
             ],
             [
              0.7777777777777778,
              "#fb9f3a"
             ],
             [
              0.8888888888888888,
              "#fdca26"
             ],
             [
              1,
              "#f0f921"
             ]
            ],
            "type": "histogram2dcontour"
           }
          ],
          "mesh3d": [
           {
            "colorbar": {
             "outlinewidth": 0,
             "ticks": ""
            },
            "type": "mesh3d"
           }
          ],
          "parcoords": [
           {
            "line": {
             "colorbar": {
              "outlinewidth": 0,
              "ticks": ""
             }
            },
            "type": "parcoords"
           }
          ],
          "pie": [
           {
            "automargin": true,
            "type": "pie"
           }
          ],
          "scatter": [
           {
            "fillpattern": {
             "fillmode": "overlay",
             "size": 10,
             "solidity": 0.2
            },
            "type": "scatter"
           }
          ],
          "scatter3d": [
           {
            "line": {
             "colorbar": {
              "outlinewidth": 0,
              "ticks": ""
             }
            },
            "marker": {
             "colorbar": {
              "outlinewidth": 0,
              "ticks": ""
             }
            },
            "type": "scatter3d"
           }
          ],
          "scattercarpet": [
           {
            "marker": {
             "colorbar": {
              "outlinewidth": 0,
              "ticks": ""
             }
            },
            "type": "scattercarpet"
           }
          ],
          "scattergeo": [
           {
            "marker": {
             "colorbar": {
              "outlinewidth": 0,
              "ticks": ""
             }
            },
            "type": "scattergeo"
           }
          ],
          "scattergl": [
           {
            "marker": {
             "colorbar": {
              "outlinewidth": 0,
              "ticks": ""
             }
            },
            "type": "scattergl"
           }
          ],
          "scattermapbox": [
           {
            "marker": {
             "colorbar": {
              "outlinewidth": 0,
              "ticks": ""
             }
            },
            "type": "scattermapbox"
           }
          ],
          "scatterpolar": [
           {
            "marker": {
             "colorbar": {
              "outlinewidth": 0,
              "ticks": ""
             }
            },
            "type": "scatterpolar"
           }
          ],
          "scatterpolargl": [
           {
            "marker": {
             "colorbar": {
              "outlinewidth": 0,
              "ticks": ""
             }
            },
            "type": "scatterpolargl"
           }
          ],
          "scatterternary": [
           {
            "marker": {
             "colorbar": {
              "outlinewidth": 0,
              "ticks": ""
             }
            },
            "type": "scatterternary"
           }
          ],
          "surface": [
           {
            "colorbar": {
             "outlinewidth": 0,
             "ticks": ""
            },
            "colorscale": [
             [
              0,
              "#0d0887"
             ],
             [
              0.1111111111111111,
              "#46039f"
             ],
             [
              0.2222222222222222,
              "#7201a8"
             ],
             [
              0.3333333333333333,
              "#9c179e"
             ],
             [
              0.4444444444444444,
              "#bd3786"
             ],
             [
              0.5555555555555556,
              "#d8576b"
             ],
             [
              0.6666666666666666,
              "#ed7953"
             ],
             [
              0.7777777777777778,
              "#fb9f3a"
             ],
             [
              0.8888888888888888,
              "#fdca26"
             ],
             [
              1,
              "#f0f921"
             ]
            ],
            "type": "surface"
           }
          ],
          "table": [
           {
            "cells": {
             "fill": {
              "color": "#EBF0F8"
             },
             "line": {
              "color": "white"
             }
            },
            "header": {
             "fill": {
              "color": "#C8D4E3"
             },
             "line": {
              "color": "white"
             }
            },
            "type": "table"
           }
          ]
         },
         "layout": {
          "annotationdefaults": {
           "arrowcolor": "#2a3f5f",
           "arrowhead": 0,
           "arrowwidth": 1
          },
          "autotypenumbers": "strict",
          "coloraxis": {
           "colorbar": {
            "outlinewidth": 0,
            "ticks": ""
           }
          },
          "colorscale": {
           "diverging": [
            [
             0,
             "#8e0152"
            ],
            [
             0.1,
             "#c51b7d"
            ],
            [
             0.2,
             "#de77ae"
            ],
            [
             0.3,
             "#f1b6da"
            ],
            [
             0.4,
             "#fde0ef"
            ],
            [
             0.5,
             "#f7f7f7"
            ],
            [
             0.6,
             "#e6f5d0"
            ],
            [
             0.7,
             "#b8e186"
            ],
            [
             0.8,
             "#7fbc41"
            ],
            [
             0.9,
             "#4d9221"
            ],
            [
             1,
             "#276419"
            ]
           ],
           "sequential": [
            [
             0,
             "#0d0887"
            ],
            [
             0.1111111111111111,
             "#46039f"
            ],
            [
             0.2222222222222222,
             "#7201a8"
            ],
            [
             0.3333333333333333,
             "#9c179e"
            ],
            [
             0.4444444444444444,
             "#bd3786"
            ],
            [
             0.5555555555555556,
             "#d8576b"
            ],
            [
             0.6666666666666666,
             "#ed7953"
            ],
            [
             0.7777777777777778,
             "#fb9f3a"
            ],
            [
             0.8888888888888888,
             "#fdca26"
            ],
            [
             1,
             "#f0f921"
            ]
           ],
           "sequentialminus": [
            [
             0,
             "#0d0887"
            ],
            [
             0.1111111111111111,
             "#46039f"
            ],
            [
             0.2222222222222222,
             "#7201a8"
            ],
            [
             0.3333333333333333,
             "#9c179e"
            ],
            [
             0.4444444444444444,
             "#bd3786"
            ],
            [
             0.5555555555555556,
             "#d8576b"
            ],
            [
             0.6666666666666666,
             "#ed7953"
            ],
            [
             0.7777777777777778,
             "#fb9f3a"
            ],
            [
             0.8888888888888888,
             "#fdca26"
            ],
            [
             1,
             "#f0f921"
            ]
           ]
          },
          "colorway": [
           "#636efa",
           "#EF553B",
           "#00cc96",
           "#ab63fa",
           "#FFA15A",
           "#19d3f3",
           "#FF6692",
           "#B6E880",
           "#FF97FF",
           "#FECB52"
          ],
          "font": {
           "color": "#2a3f5f"
          },
          "geo": {
           "bgcolor": "white",
           "lakecolor": "white",
           "landcolor": "#E5ECF6",
           "showlakes": true,
           "showland": true,
           "subunitcolor": "white"
          },
          "hoverlabel": {
           "align": "left"
          },
          "hovermode": "closest",
          "mapbox": {
           "style": "light"
          },
          "paper_bgcolor": "white",
          "plot_bgcolor": "#E5ECF6",
          "polar": {
           "angularaxis": {
            "gridcolor": "white",
            "linecolor": "white",
            "ticks": ""
           },
           "bgcolor": "#E5ECF6",
           "radialaxis": {
            "gridcolor": "white",
            "linecolor": "white",
            "ticks": ""
           }
          },
          "scene": {
           "xaxis": {
            "backgroundcolor": "#E5ECF6",
            "gridcolor": "white",
            "gridwidth": 2,
            "linecolor": "white",
            "showbackground": true,
            "ticks": "",
            "zerolinecolor": "white"
           },
           "yaxis": {
            "backgroundcolor": "#E5ECF6",
            "gridcolor": "white",
            "gridwidth": 2,
            "linecolor": "white",
            "showbackground": true,
            "ticks": "",
            "zerolinecolor": "white"
           },
           "zaxis": {
            "backgroundcolor": "#E5ECF6",
            "gridcolor": "white",
            "gridwidth": 2,
            "linecolor": "white",
            "showbackground": true,
            "ticks": "",
            "zerolinecolor": "white"
           }
          },
          "shapedefaults": {
           "line": {
            "color": "#2a3f5f"
           }
          },
          "ternary": {
           "aaxis": {
            "gridcolor": "white",
            "linecolor": "white",
            "ticks": ""
           },
           "baxis": {
            "gridcolor": "white",
            "linecolor": "white",
            "ticks": ""
           },
           "bgcolor": "#E5ECF6",
           "caxis": {
            "gridcolor": "white",
            "linecolor": "white",
            "ticks": ""
           }
          },
          "title": {
           "x": 0.05
          },
          "xaxis": {
           "automargin": true,
           "gridcolor": "white",
           "linecolor": "white",
           "ticks": "",
           "title": {
            "standoff": 15
           },
           "zerolinecolor": "white",
           "zerolinewidth": 2
          },
          "yaxis": {
           "automargin": true,
           "gridcolor": "white",
           "linecolor": "white",
           "ticks": "",
           "title": {
            "standoff": 15
           },
           "zerolinecolor": "white",
           "zerolinewidth": 2
          }
         }
        }
       }
      }
     },
     "metadata": {},
     "output_type": "display_data"
    }
   ],
   "source": [
    "# Graficamos embudo de secuencia de eventos grupo de control A\n",
    "\n",
    "events_A = [\"login\", \"product_page\", \"product_cart\", \"purchase\"]\n",
    "n_events_A = [n_loginA, n_product_pageA, n_product_cartA, n_purchaseA]\n",
    "\n",
    "fig_A = go.Figure(go.Funnel(y=events_A, x=n_events_A))\n",
    "fig_A.show()"
   ]
  },
  {
   "cell_type": "markdown",
   "metadata": {},
   "source": [
    "**OBSERVACIONES: Tomando en cuenta la secuencia de eventos, en el grupo de control A, de 1012 usuarios que llegaron a la product_page solo 54 agregaron productos al carrito pero ninguno hizo pedidos o compras. Los datos no tienes sentido, probablemente sea un problema con las fechas y horas de cada evento discrepan demasiado en comparacion al embudo anterior. En esto caso podemos decir que los usuarios no siguen la secuencia de eventos.**"
   ]
  },
  {
   "cell_type": "code",
   "execution_count": 51,
   "metadata": {},
   "outputs": [
    {
     "data": {
      "text/html": [
       "<div>\n",
       "<style scoped>\n",
       "    .dataframe tbody tr th:only-of-type {\n",
       "        vertical-align: middle;\n",
       "    }\n",
       "\n",
       "    .dataframe tbody tr th {\n",
       "        vertical-align: top;\n",
       "    }\n",
       "\n",
       "    .dataframe thead th {\n",
       "        text-align: right;\n",
       "    }\n",
       "</style>\n",
       "<table border=\"1\" class=\"dataframe\">\n",
       "  <thead>\n",
       "    <tr style=\"text-align: right;\">\n",
       "      <th>event_name</th>\n",
       "      <th>login</th>\n",
       "      <th>product_cart</th>\n",
       "      <th>product_page</th>\n",
       "      <th>purchase</th>\n",
       "    </tr>\n",
       "    <tr>\n",
       "      <th>user_id</th>\n",
       "      <th></th>\n",
       "      <th></th>\n",
       "      <th></th>\n",
       "      <th></th>\n",
       "    </tr>\n",
       "  </thead>\n",
       "  <tbody>\n",
       "    <tr>\n",
       "      <th>001064FEAAB631A1</th>\n",
       "      <td>2020-12-20 14:43:27</td>\n",
       "      <td>NaT</td>\n",
       "      <td>2020-12-20 14:43:28</td>\n",
       "      <td>NaT</td>\n",
       "    </tr>\n",
       "    <tr>\n",
       "      <th>005E096DBD379BCF</th>\n",
       "      <td>2020-12-21 07:20:39</td>\n",
       "      <td>NaT</td>\n",
       "      <td>NaT</td>\n",
       "      <td>2020-12-21 07:20:39</td>\n",
       "    </tr>\n",
       "    <tr>\n",
       "      <th>015D1E3BB893349D</th>\n",
       "      <td>2020-12-16 21:14:05</td>\n",
       "      <td>NaT</td>\n",
       "      <td>2020-12-16 21:14:06</td>\n",
       "      <td>NaT</td>\n",
       "    </tr>\n",
       "    <tr>\n",
       "      <th>015FF3EC72C1F4F6</th>\n",
       "      <td>2020-12-20 08:29:30</td>\n",
       "      <td>NaT</td>\n",
       "      <td>2020-12-20 08:29:31</td>\n",
       "      <td>NaT</td>\n",
       "    </tr>\n",
       "    <tr>\n",
       "      <th>01B0B891CA513468</th>\n",
       "      <td>2020-12-16 22:35:11</td>\n",
       "      <td>2020-12-16 22:35:11</td>\n",
       "      <td>2020-12-16 22:35:11</td>\n",
       "      <td>NaT</td>\n",
       "    </tr>\n",
       "  </tbody>\n",
       "</table>\n",
       "</div>"
      ],
      "text/plain": [
       "event_name                     login        product_cart        product_page  \\\n",
       "user_id                                                                        \n",
       "001064FEAAB631A1 2020-12-20 14:43:27                 NaT 2020-12-20 14:43:28   \n",
       "005E096DBD379BCF 2020-12-21 07:20:39                 NaT                 NaT   \n",
       "015D1E3BB893349D 2020-12-16 21:14:05                 NaT 2020-12-16 21:14:06   \n",
       "015FF3EC72C1F4F6 2020-12-20 08:29:30                 NaT 2020-12-20 08:29:31   \n",
       "01B0B891CA513468 2020-12-16 22:35:11 2020-12-16 22:35:11 2020-12-16 22:35:11   \n",
       "\n",
       "event_name                  purchase  \n",
       "user_id                               \n",
       "001064FEAAB631A1                 NaT  \n",
       "005E096DBD379BCF 2020-12-21 07:20:39  \n",
       "015D1E3BB893349D                 NaT  \n",
       "015FF3EC72C1F4F6                 NaT  \n",
       "01B0B891CA513468                 NaT  "
      ]
     },
     "execution_count": 51,
     "metadata": {},
     "output_type": "execute_result"
    }
   ],
   "source": [
    "# Buscamos la hora del primer suceso de cada evento del grupo B\n",
    "\n",
    "users_B = funnel_B.pivot_table(index=\"user_id\",columns=\"event_name\", values=\"event_dt\", aggfunc=\"min\")\n",
    "\n",
    "users_B.head()"
   ]
  },
  {
   "cell_type": "code",
   "execution_count": 52,
   "metadata": {},
   "outputs": [
    {
     "name": "stdout",
     "output_type": "stream",
     "text": [
      "927\n",
      "284\n",
      "23\n",
      "1\n"
     ]
    }
   ],
   "source": [
    "# Guardamos las condiciones para cada etapa como variables\n",
    "\n",
    "step_1B = (~ users_B[\"login\"].isna())\n",
    "step_2B = step_1B & (users_B[\"product_page\"] > users_B[\"login\"])\n",
    "step_3B = step_2B & (users_B[\"product_cart\"] > users_B[\"product_page\"])\n",
    "step_4B = step_3B & (users_B[\"purchase\"] > users_B[\"product_cart\"])\n",
    "\n",
    "n_loginB = users_B[step_1B].shape[0]\n",
    "n_product_pageB = users_B[step_2B].shape[0]\n",
    "n_product_cartB = users_B[step_3B].shape[0]\n",
    "n_purchaseB = users_B[step_4B].shape[0]\n",
    "\n",
    "print(n_loginB)\n",
    "print(n_product_pageB)\n",
    "print(n_product_cartB)\n",
    "print(n_purchaseB)"
   ]
  },
  {
   "cell_type": "code",
   "execution_count": 53,
   "metadata": {},
   "outputs": [
    {
     "data": {
      "application/vnd.plotly.v1+json": {
       "config": {
        "plotlyServerURL": "https://plot.ly"
       },
       "data": [
        {
         "type": "funnel",
         "x": [
          927,
          284,
          23,
          1
         ],
         "y": [
          "login",
          "product_page",
          "product_cart",
          "purchase"
         ]
        }
       ],
       "layout": {
        "template": {
         "data": {
          "bar": [
           {
            "error_x": {
             "color": "#2a3f5f"
            },
            "error_y": {
             "color": "#2a3f5f"
            },
            "marker": {
             "line": {
              "color": "#E5ECF6",
              "width": 0.5
             },
             "pattern": {
              "fillmode": "overlay",
              "size": 10,
              "solidity": 0.2
             }
            },
            "type": "bar"
           }
          ],
          "barpolar": [
           {
            "marker": {
             "line": {
              "color": "#E5ECF6",
              "width": 0.5
             },
             "pattern": {
              "fillmode": "overlay",
              "size": 10,
              "solidity": 0.2
             }
            },
            "type": "barpolar"
           }
          ],
          "carpet": [
           {
            "aaxis": {
             "endlinecolor": "#2a3f5f",
             "gridcolor": "white",
             "linecolor": "white",
             "minorgridcolor": "white",
             "startlinecolor": "#2a3f5f"
            },
            "baxis": {
             "endlinecolor": "#2a3f5f",
             "gridcolor": "white",
             "linecolor": "white",
             "minorgridcolor": "white",
             "startlinecolor": "#2a3f5f"
            },
            "type": "carpet"
           }
          ],
          "choropleth": [
           {
            "colorbar": {
             "outlinewidth": 0,
             "ticks": ""
            },
            "type": "choropleth"
           }
          ],
          "contour": [
           {
            "colorbar": {
             "outlinewidth": 0,
             "ticks": ""
            },
            "colorscale": [
             [
              0,
              "#0d0887"
             ],
             [
              0.1111111111111111,
              "#46039f"
             ],
             [
              0.2222222222222222,
              "#7201a8"
             ],
             [
              0.3333333333333333,
              "#9c179e"
             ],
             [
              0.4444444444444444,
              "#bd3786"
             ],
             [
              0.5555555555555556,
              "#d8576b"
             ],
             [
              0.6666666666666666,
              "#ed7953"
             ],
             [
              0.7777777777777778,
              "#fb9f3a"
             ],
             [
              0.8888888888888888,
              "#fdca26"
             ],
             [
              1,
              "#f0f921"
             ]
            ],
            "type": "contour"
           }
          ],
          "contourcarpet": [
           {
            "colorbar": {
             "outlinewidth": 0,
             "ticks": ""
            },
            "type": "contourcarpet"
           }
          ],
          "heatmap": [
           {
            "colorbar": {
             "outlinewidth": 0,
             "ticks": ""
            },
            "colorscale": [
             [
              0,
              "#0d0887"
             ],
             [
              0.1111111111111111,
              "#46039f"
             ],
             [
              0.2222222222222222,
              "#7201a8"
             ],
             [
              0.3333333333333333,
              "#9c179e"
             ],
             [
              0.4444444444444444,
              "#bd3786"
             ],
             [
              0.5555555555555556,
              "#d8576b"
             ],
             [
              0.6666666666666666,
              "#ed7953"
             ],
             [
              0.7777777777777778,
              "#fb9f3a"
             ],
             [
              0.8888888888888888,
              "#fdca26"
             ],
             [
              1,
              "#f0f921"
             ]
            ],
            "type": "heatmap"
           }
          ],
          "heatmapgl": [
           {
            "colorbar": {
             "outlinewidth": 0,
             "ticks": ""
            },
            "colorscale": [
             [
              0,
              "#0d0887"
             ],
             [
              0.1111111111111111,
              "#46039f"
             ],
             [
              0.2222222222222222,
              "#7201a8"
             ],
             [
              0.3333333333333333,
              "#9c179e"
             ],
             [
              0.4444444444444444,
              "#bd3786"
             ],
             [
              0.5555555555555556,
              "#d8576b"
             ],
             [
              0.6666666666666666,
              "#ed7953"
             ],
             [
              0.7777777777777778,
              "#fb9f3a"
             ],
             [
              0.8888888888888888,
              "#fdca26"
             ],
             [
              1,
              "#f0f921"
             ]
            ],
            "type": "heatmapgl"
           }
          ],
          "histogram": [
           {
            "marker": {
             "pattern": {
              "fillmode": "overlay",
              "size": 10,
              "solidity": 0.2
             }
            },
            "type": "histogram"
           }
          ],
          "histogram2d": [
           {
            "colorbar": {
             "outlinewidth": 0,
             "ticks": ""
            },
            "colorscale": [
             [
              0,
              "#0d0887"
             ],
             [
              0.1111111111111111,
              "#46039f"
             ],
             [
              0.2222222222222222,
              "#7201a8"
             ],
             [
              0.3333333333333333,
              "#9c179e"
             ],
             [
              0.4444444444444444,
              "#bd3786"
             ],
             [
              0.5555555555555556,
              "#d8576b"
             ],
             [
              0.6666666666666666,
              "#ed7953"
             ],
             [
              0.7777777777777778,
              "#fb9f3a"
             ],
             [
              0.8888888888888888,
              "#fdca26"
             ],
             [
              1,
              "#f0f921"
             ]
            ],
            "type": "histogram2d"
           }
          ],
          "histogram2dcontour": [
           {
            "colorbar": {
             "outlinewidth": 0,
             "ticks": ""
            },
            "colorscale": [
             [
              0,
              "#0d0887"
             ],
             [
              0.1111111111111111,
              "#46039f"
             ],
             [
              0.2222222222222222,
              "#7201a8"
             ],
             [
              0.3333333333333333,
              "#9c179e"
             ],
             [
              0.4444444444444444,
              "#bd3786"
             ],
             [
              0.5555555555555556,
              "#d8576b"
             ],
             [
              0.6666666666666666,
              "#ed7953"
             ],
             [
              0.7777777777777778,
              "#fb9f3a"
             ],
             [
              0.8888888888888888,
              "#fdca26"
             ],
             [
              1,
              "#f0f921"
             ]
            ],
            "type": "histogram2dcontour"
           }
          ],
          "mesh3d": [
           {
            "colorbar": {
             "outlinewidth": 0,
             "ticks": ""
            },
            "type": "mesh3d"
           }
          ],
          "parcoords": [
           {
            "line": {
             "colorbar": {
              "outlinewidth": 0,
              "ticks": ""
             }
            },
            "type": "parcoords"
           }
          ],
          "pie": [
           {
            "automargin": true,
            "type": "pie"
           }
          ],
          "scatter": [
           {
            "fillpattern": {
             "fillmode": "overlay",
             "size": 10,
             "solidity": 0.2
            },
            "type": "scatter"
           }
          ],
          "scatter3d": [
           {
            "line": {
             "colorbar": {
              "outlinewidth": 0,
              "ticks": ""
             }
            },
            "marker": {
             "colorbar": {
              "outlinewidth": 0,
              "ticks": ""
             }
            },
            "type": "scatter3d"
           }
          ],
          "scattercarpet": [
           {
            "marker": {
             "colorbar": {
              "outlinewidth": 0,
              "ticks": ""
             }
            },
            "type": "scattercarpet"
           }
          ],
          "scattergeo": [
           {
            "marker": {
             "colorbar": {
              "outlinewidth": 0,
              "ticks": ""
             }
            },
            "type": "scattergeo"
           }
          ],
          "scattergl": [
           {
            "marker": {
             "colorbar": {
              "outlinewidth": 0,
              "ticks": ""
             }
            },
            "type": "scattergl"
           }
          ],
          "scattermapbox": [
           {
            "marker": {
             "colorbar": {
              "outlinewidth": 0,
              "ticks": ""
             }
            },
            "type": "scattermapbox"
           }
          ],
          "scatterpolar": [
           {
            "marker": {
             "colorbar": {
              "outlinewidth": 0,
              "ticks": ""
             }
            },
            "type": "scatterpolar"
           }
          ],
          "scatterpolargl": [
           {
            "marker": {
             "colorbar": {
              "outlinewidth": 0,
              "ticks": ""
             }
            },
            "type": "scatterpolargl"
           }
          ],
          "scatterternary": [
           {
            "marker": {
             "colorbar": {
              "outlinewidth": 0,
              "ticks": ""
             }
            },
            "type": "scatterternary"
           }
          ],
          "surface": [
           {
            "colorbar": {
             "outlinewidth": 0,
             "ticks": ""
            },
            "colorscale": [
             [
              0,
              "#0d0887"
             ],
             [
              0.1111111111111111,
              "#46039f"
             ],
             [
              0.2222222222222222,
              "#7201a8"
             ],
             [
              0.3333333333333333,
              "#9c179e"
             ],
             [
              0.4444444444444444,
              "#bd3786"
             ],
             [
              0.5555555555555556,
              "#d8576b"
             ],
             [
              0.6666666666666666,
              "#ed7953"
             ],
             [
              0.7777777777777778,
              "#fb9f3a"
             ],
             [
              0.8888888888888888,
              "#fdca26"
             ],
             [
              1,
              "#f0f921"
             ]
            ],
            "type": "surface"
           }
          ],
          "table": [
           {
            "cells": {
             "fill": {
              "color": "#EBF0F8"
             },
             "line": {
              "color": "white"
             }
            },
            "header": {
             "fill": {
              "color": "#C8D4E3"
             },
             "line": {
              "color": "white"
             }
            },
            "type": "table"
           }
          ]
         },
         "layout": {
          "annotationdefaults": {
           "arrowcolor": "#2a3f5f",
           "arrowhead": 0,
           "arrowwidth": 1
          },
          "autotypenumbers": "strict",
          "coloraxis": {
           "colorbar": {
            "outlinewidth": 0,
            "ticks": ""
           }
          },
          "colorscale": {
           "diverging": [
            [
             0,
             "#8e0152"
            ],
            [
             0.1,
             "#c51b7d"
            ],
            [
             0.2,
             "#de77ae"
            ],
            [
             0.3,
             "#f1b6da"
            ],
            [
             0.4,
             "#fde0ef"
            ],
            [
             0.5,
             "#f7f7f7"
            ],
            [
             0.6,
             "#e6f5d0"
            ],
            [
             0.7,
             "#b8e186"
            ],
            [
             0.8,
             "#7fbc41"
            ],
            [
             0.9,
             "#4d9221"
            ],
            [
             1,
             "#276419"
            ]
           ],
           "sequential": [
            [
             0,
             "#0d0887"
            ],
            [
             0.1111111111111111,
             "#46039f"
            ],
            [
             0.2222222222222222,
             "#7201a8"
            ],
            [
             0.3333333333333333,
             "#9c179e"
            ],
            [
             0.4444444444444444,
             "#bd3786"
            ],
            [
             0.5555555555555556,
             "#d8576b"
            ],
            [
             0.6666666666666666,
             "#ed7953"
            ],
            [
             0.7777777777777778,
             "#fb9f3a"
            ],
            [
             0.8888888888888888,
             "#fdca26"
            ],
            [
             1,
             "#f0f921"
            ]
           ],
           "sequentialminus": [
            [
             0,
             "#0d0887"
            ],
            [
             0.1111111111111111,
             "#46039f"
            ],
            [
             0.2222222222222222,
             "#7201a8"
            ],
            [
             0.3333333333333333,
             "#9c179e"
            ],
            [
             0.4444444444444444,
             "#bd3786"
            ],
            [
             0.5555555555555556,
             "#d8576b"
            ],
            [
             0.6666666666666666,
             "#ed7953"
            ],
            [
             0.7777777777777778,
             "#fb9f3a"
            ],
            [
             0.8888888888888888,
             "#fdca26"
            ],
            [
             1,
             "#f0f921"
            ]
           ]
          },
          "colorway": [
           "#636efa",
           "#EF553B",
           "#00cc96",
           "#ab63fa",
           "#FFA15A",
           "#19d3f3",
           "#FF6692",
           "#B6E880",
           "#FF97FF",
           "#FECB52"
          ],
          "font": {
           "color": "#2a3f5f"
          },
          "geo": {
           "bgcolor": "white",
           "lakecolor": "white",
           "landcolor": "#E5ECF6",
           "showlakes": true,
           "showland": true,
           "subunitcolor": "white"
          },
          "hoverlabel": {
           "align": "left"
          },
          "hovermode": "closest",
          "mapbox": {
           "style": "light"
          },
          "paper_bgcolor": "white",
          "plot_bgcolor": "#E5ECF6",
          "polar": {
           "angularaxis": {
            "gridcolor": "white",
            "linecolor": "white",
            "ticks": ""
           },
           "bgcolor": "#E5ECF6",
           "radialaxis": {
            "gridcolor": "white",
            "linecolor": "white",
            "ticks": ""
           }
          },
          "scene": {
           "xaxis": {
            "backgroundcolor": "#E5ECF6",
            "gridcolor": "white",
            "gridwidth": 2,
            "linecolor": "white",
            "showbackground": true,
            "ticks": "",
            "zerolinecolor": "white"
           },
           "yaxis": {
            "backgroundcolor": "#E5ECF6",
            "gridcolor": "white",
            "gridwidth": 2,
            "linecolor": "white",
            "showbackground": true,
            "ticks": "",
            "zerolinecolor": "white"
           },
           "zaxis": {
            "backgroundcolor": "#E5ECF6",
            "gridcolor": "white",
            "gridwidth": 2,
            "linecolor": "white",
            "showbackground": true,
            "ticks": "",
            "zerolinecolor": "white"
           }
          },
          "shapedefaults": {
           "line": {
            "color": "#2a3f5f"
           }
          },
          "ternary": {
           "aaxis": {
            "gridcolor": "white",
            "linecolor": "white",
            "ticks": ""
           },
           "baxis": {
            "gridcolor": "white",
            "linecolor": "white",
            "ticks": ""
           },
           "bgcolor": "#E5ECF6",
           "caxis": {
            "gridcolor": "white",
            "linecolor": "white",
            "ticks": ""
           }
          },
          "title": {
           "x": 0.05
          },
          "xaxis": {
           "automargin": true,
           "gridcolor": "white",
           "linecolor": "white",
           "ticks": "",
           "title": {
            "standoff": 15
           },
           "zerolinecolor": "white",
           "zerolinewidth": 2
          },
          "yaxis": {
           "automargin": true,
           "gridcolor": "white",
           "linecolor": "white",
           "ticks": "",
           "title": {
            "standoff": 15
           },
           "zerolinecolor": "white",
           "zerolinewidth": 2
          }
         }
        }
       }
      }
     },
     "metadata": {},
     "output_type": "display_data"
    }
   ],
   "source": [
    "# Graficamos embudo de secuencia de eventos del grupo B\n",
    "\n",
    "events_B = [\"login\", \"product_page\", \"product_cart\", \"purchase\"]\n",
    "n_events_B = [n_loginB, n_product_pageB, n_product_cartB, n_purchaseB]\n",
    "\n",
    "fig_B = go.Figure(go.Funnel(y=events_B, x=n_events_B))\n",
    "fig_B.show()"
   ]
  },
  {
   "cell_type": "markdown",
   "metadata": {},
   "source": [
    "**OBSERVACIONES: Claramente no todos los usuarios toman la ruta prevista, en este caso para el grupo B siguiendo la mismo secuencia de eventos, de 284 que llegaron a la product_ page solo 23 agregaron productos al carrito y solo 1 usuario hizo compras o pedidos. Estos resultado difieron mucho del grupo A y tambien de nuestro embudo simple sin secuencia de eventos. Aqui podemos concluir que los usuarios no siguen la secuencia de eventos y por lo tanto tenemos que probar las hipotesis sin tener en cuenta la sencuencia de eventos para poder analizar las proporciones.**"
   ]
  },
  {
   "cell_type": "code",
   "execution_count": 54,
   "metadata": {},
   "outputs": [
    {
     "data": {
      "text/html": [
       "<div>\n",
       "<style scoped>\n",
       "    .dataframe tbody tr th:only-of-type {\n",
       "        vertical-align: middle;\n",
       "    }\n",
       "\n",
       "    .dataframe tbody tr th {\n",
       "        vertical-align: top;\n",
       "    }\n",
       "\n",
       "    .dataframe thead th {\n",
       "        text-align: right;\n",
       "    }\n",
       "</style>\n",
       "<table border=\"1\" class=\"dataframe\">\n",
       "  <thead>\n",
       "    <tr style=\"text-align: right;\">\n",
       "      <th></th>\n",
       "      <th>user_id</th>\n",
       "      <th>event_dt</th>\n",
       "      <th>event_name</th>\n",
       "      <th>details</th>\n",
       "      <th>group</th>\n",
       "      <th>ab_test</th>\n",
       "      <th>date</th>\n",
       "    </tr>\n",
       "  </thead>\n",
       "  <tbody>\n",
       "    <tr>\n",
       "      <th>0</th>\n",
       "      <td>831887FE7F2D6CBA</td>\n",
       "      <td>2020-12-07 06:50:29</td>\n",
       "      <td>purchase</td>\n",
       "      <td>4.99</td>\n",
       "      <td>A</td>\n",
       "      <td>recommender_system_test</td>\n",
       "      <td>2020-12-07</td>\n",
       "    </tr>\n",
       "    <tr>\n",
       "      <th>1</th>\n",
       "      <td>3C5DD0288AC4FE23</td>\n",
       "      <td>2020-12-07 19:42:40</td>\n",
       "      <td>purchase</td>\n",
       "      <td>4.99</td>\n",
       "      <td>A</td>\n",
       "      <td>recommender_system_test</td>\n",
       "      <td>2020-12-07</td>\n",
       "    </tr>\n",
       "    <tr>\n",
       "      <th>3</th>\n",
       "      <td>2B06EB547B7AAD08</td>\n",
       "      <td>2020-12-07 21:36:38</td>\n",
       "      <td>purchase</td>\n",
       "      <td>4.99</td>\n",
       "      <td>A</td>\n",
       "      <td>recommender_system_test</td>\n",
       "      <td>2020-12-07</td>\n",
       "    </tr>\n",
       "    <tr>\n",
       "      <th>5</th>\n",
       "      <td>2F46396B6766CFDB</td>\n",
       "      <td>2020-12-07 13:29:30</td>\n",
       "      <td>purchase</td>\n",
       "      <td>4.99</td>\n",
       "      <td>A</td>\n",
       "      <td>recommender_system_test</td>\n",
       "      <td>2020-12-07</td>\n",
       "    </tr>\n",
       "    <tr>\n",
       "      <th>6</th>\n",
       "      <td>538F954F6B3AECE4</td>\n",
       "      <td>2020-12-07 07:12:05</td>\n",
       "      <td>purchase</td>\n",
       "      <td>4.99</td>\n",
       "      <td>A</td>\n",
       "      <td>recommender_system_test</td>\n",
       "      <td>2020-12-07</td>\n",
       "    </tr>\n",
       "  </tbody>\n",
       "</table>\n",
       "</div>"
      ],
      "text/plain": [
       "            user_id            event_dt event_name  details group  \\\n",
       "0  831887FE7F2D6CBA 2020-12-07 06:50:29   purchase     4.99     A   \n",
       "1  3C5DD0288AC4FE23 2020-12-07 19:42:40   purchase     4.99     A   \n",
       "3  2B06EB547B7AAD08 2020-12-07 21:36:38   purchase     4.99     A   \n",
       "5  2F46396B6766CFDB 2020-12-07 13:29:30   purchase     4.99     A   \n",
       "6  538F954F6B3AECE4 2020-12-07 07:12:05   purchase     4.99     A   \n",
       "\n",
       "                   ab_test        date  \n",
       "0  recommender_system_test  2020-12-07  \n",
       "1  recommender_system_test  2020-12-07  \n",
       "3  recommender_system_test  2020-12-07  \n",
       "5  recommender_system_test  2020-12-07  \n",
       "6  recommender_system_test  2020-12-07  "
      ]
     },
     "execution_count": 54,
     "metadata": {},
     "output_type": "execute_result"
    }
   ],
   "source": [
    "funnel_A.head()"
   ]
  },
  {
   "cell_type": "code",
   "execution_count": 55,
   "metadata": {},
   "outputs": [
    {
     "name": "stderr",
     "output_type": "stream",
     "text": [
      "C:\\Users\\LENOVO\\AppData\\Local\\Temp\\ipykernel_3464\\1552543278.py:3: SettingWithCopyWarning:\n",
      "\n",
      "\n",
      "A value is trying to be set on a copy of a slice from a DataFrame.\n",
      "Try using .loc[row_indexer,col_indexer] = value instead\n",
      "\n",
      "See the caveats in the documentation: https://pandas.pydata.org/pandas-docs/stable/user_guide/indexing.html#returning-a-view-versus-a-copy\n",
      "\n"
     ]
    },
    {
     "data": {
      "text/html": [
       "<div>\n",
       "<style scoped>\n",
       "    .dataframe tbody tr th:only-of-type {\n",
       "        vertical-align: middle;\n",
       "    }\n",
       "\n",
       "    .dataframe tbody tr th {\n",
       "        vertical-align: top;\n",
       "    }\n",
       "\n",
       "    .dataframe thead th {\n",
       "        text-align: right;\n",
       "    }\n",
       "</style>\n",
       "<table border=\"1\" class=\"dataframe\">\n",
       "  <thead>\n",
       "    <tr style=\"text-align: right;\">\n",
       "      <th></th>\n",
       "      <th>date</th>\n",
       "      <th>event_name</th>\n",
       "      <th>user_id</th>\n",
       "    </tr>\n",
       "  </thead>\n",
       "  <tbody>\n",
       "    <tr>\n",
       "      <th>0</th>\n",
       "      <td>2020-12-07</td>\n",
       "      <td>login</td>\n",
       "      <td>154</td>\n",
       "    </tr>\n",
       "    <tr>\n",
       "      <th>1</th>\n",
       "      <td>2020-12-07</td>\n",
       "      <td>product_cart</td>\n",
       "      <td>35</td>\n",
       "    </tr>\n",
       "    <tr>\n",
       "      <th>2</th>\n",
       "      <td>2020-12-07</td>\n",
       "      <td>product_page</td>\n",
       "      <td>96</td>\n",
       "    </tr>\n",
       "    <tr>\n",
       "      <th>3</th>\n",
       "      <td>2020-12-07</td>\n",
       "      <td>purchase</td>\n",
       "      <td>46</td>\n",
       "    </tr>\n",
       "    <tr>\n",
       "      <th>4</th>\n",
       "      <td>2020-12-08</td>\n",
       "      <td>login</td>\n",
       "      <td>159</td>\n",
       "    </tr>\n",
       "    <tr>\n",
       "      <th>...</th>\n",
       "      <td>...</td>\n",
       "      <td>...</td>\n",
       "      <td>...</td>\n",
       "    </tr>\n",
       "    <tr>\n",
       "      <th>83</th>\n",
       "      <td>2020-12-28</td>\n",
       "      <td>purchase</td>\n",
       "      <td>71</td>\n",
       "    </tr>\n",
       "    <tr>\n",
       "      <th>84</th>\n",
       "      <td>2020-12-29</td>\n",
       "      <td>login</td>\n",
       "      <td>200</td>\n",
       "    </tr>\n",
       "    <tr>\n",
       "      <th>85</th>\n",
       "      <td>2020-12-29</td>\n",
       "      <td>product_cart</td>\n",
       "      <td>55</td>\n",
       "    </tr>\n",
       "    <tr>\n",
       "      <th>86</th>\n",
       "      <td>2020-12-29</td>\n",
       "      <td>product_page</td>\n",
       "      <td>132</td>\n",
       "    </tr>\n",
       "    <tr>\n",
       "      <th>87</th>\n",
       "      <td>2020-12-29</td>\n",
       "      <td>purchase</td>\n",
       "      <td>44</td>\n",
       "    </tr>\n",
       "  </tbody>\n",
       "</table>\n",
       "<p>88 rows × 3 columns</p>\n",
       "</div>"
      ],
      "text/plain": [
       "          date    event_name  user_id\n",
       "0   2020-12-07         login      154\n",
       "1   2020-12-07  product_cart       35\n",
       "2   2020-12-07  product_page       96\n",
       "3   2020-12-07      purchase       46\n",
       "4   2020-12-08         login      159\n",
       "..         ...           ...      ...\n",
       "83  2020-12-28      purchase       71\n",
       "84  2020-12-29         login      200\n",
       "85  2020-12-29  product_cart       55\n",
       "86  2020-12-29  product_page      132\n",
       "87  2020-12-29      purchase       44\n",
       "\n",
       "[88 rows x 3 columns]"
      ]
     },
     "execution_count": 55,
     "metadata": {},
     "output_type": "execute_result"
    }
   ],
   "source": [
    "# Calculemos la distribucion del numero de eventos por usuario en cada etapa para el grupo de control A\n",
    "\n",
    "funnel_A[\"date\"] = funnel_A[\"event_dt\"].dt.date\n",
    "\n",
    "day_counts_A = funnel_A.groupby([\"date\", \"event_name\"], as_index=False)[\"user_id\"].count()\n",
    "day_counts_A"
   ]
  },
  {
   "cell_type": "code",
   "execution_count": 56,
   "metadata": {},
   "outputs": [
    {
     "data": {
      "image/png": "[encoded data removed]",
      "text/plain": [
       "<Figure size 1000x1000 with 1 Axes>"
      ]
     },
     "metadata": {},
     "output_type": "display_data"
    }
   ],
   "source": [
    "plt.figure(figsize=(10,10))\n",
    "sns.lineplot(data=day_counts_A, x=\"date\", y=\"user_id\", hue=\"event_name\")\n",
    "plt.show()"
   ]
  },
  {
   "cell_type": "code",
   "execution_count": 58,
   "metadata": {},
   "outputs": [
    {
     "name": "stderr",
     "output_type": "stream",
     "text": [
      "C:\\Users\\LENOVO\\AppData\\Local\\Temp\\ipykernel_3464\\1137240230.py:3: SettingWithCopyWarning:\n",
      "\n",
      "\n",
      "A value is trying to be set on a copy of a slice from a DataFrame.\n",
      "Try using .loc[row_indexer,col_indexer] = value instead\n",
      "\n",
      "See the caveats in the documentation: https://pandas.pydata.org/pandas-docs/stable/user_guide/indexing.html#returning-a-view-versus-a-copy\n",
      "\n"
     ]
    },
    {
     "data": {
      "text/html": [
       "<div>\n",
       "<style scoped>\n",
       "    .dataframe tbody tr th:only-of-type {\n",
       "        vertical-align: middle;\n",
       "    }\n",
       "\n",
       "    .dataframe tbody tr th {\n",
       "        vertical-align: top;\n",
       "    }\n",
       "\n",
       "    .dataframe thead th {\n",
       "        text-align: right;\n",
       "    }\n",
       "</style>\n",
       "<table border=\"1\" class=\"dataframe\">\n",
       "  <thead>\n",
       "    <tr style=\"text-align: right;\">\n",
       "      <th></th>\n",
       "      <th>date</th>\n",
       "      <th>event_name</th>\n",
       "      <th>user_id</th>\n",
       "    </tr>\n",
       "  </thead>\n",
       "  <tbody>\n",
       "    <tr>\n",
       "      <th>0</th>\n",
       "      <td>2020-12-07</td>\n",
       "      <td>login</td>\n",
       "      <td>165</td>\n",
       "    </tr>\n",
       "    <tr>\n",
       "      <th>1</th>\n",
       "      <td>2020-12-07</td>\n",
       "      <td>product_cart</td>\n",
       "      <td>46</td>\n",
       "    </tr>\n",
       "    <tr>\n",
       "      <th>2</th>\n",
       "      <td>2020-12-07</td>\n",
       "      <td>product_page</td>\n",
       "      <td>108</td>\n",
       "    </tr>\n",
       "    <tr>\n",
       "      <th>3</th>\n",
       "      <td>2020-12-07</td>\n",
       "      <td>purchase</td>\n",
       "      <td>59</td>\n",
       "    </tr>\n",
       "    <tr>\n",
       "      <th>4</th>\n",
       "      <td>2020-12-08</td>\n",
       "      <td>login</td>\n",
       "      <td>119</td>\n",
       "    </tr>\n",
       "    <tr>\n",
       "      <th>...</th>\n",
       "      <td>...</td>\n",
       "      <td>...</td>\n",
       "      <td>...</td>\n",
       "    </tr>\n",
       "    <tr>\n",
       "      <th>86</th>\n",
       "      <td>2020-12-29</td>\n",
       "      <td>product_page</td>\n",
       "      <td>20</td>\n",
       "    </tr>\n",
       "    <tr>\n",
       "      <th>87</th>\n",
       "      <td>2020-12-29</td>\n",
       "      <td>purchase</td>\n",
       "      <td>12</td>\n",
       "    </tr>\n",
       "    <tr>\n",
       "      <th>88</th>\n",
       "      <td>2020-12-30</td>\n",
       "      <td>login</td>\n",
       "      <td>2</td>\n",
       "    </tr>\n",
       "    <tr>\n",
       "      <th>89</th>\n",
       "      <td>2020-12-30</td>\n",
       "      <td>product_cart</td>\n",
       "      <td>1</td>\n",
       "    </tr>\n",
       "    <tr>\n",
       "      <th>90</th>\n",
       "      <td>2020-12-30</td>\n",
       "      <td>product_page</td>\n",
       "      <td>1</td>\n",
       "    </tr>\n",
       "  </tbody>\n",
       "</table>\n",
       "<p>91 rows × 3 columns</p>\n",
       "</div>"
      ],
      "text/plain": [
       "          date    event_name  user_id\n",
       "0   2020-12-07         login      165\n",
       "1   2020-12-07  product_cart       46\n",
       "2   2020-12-07  product_page      108\n",
       "3   2020-12-07      purchase       59\n",
       "4   2020-12-08         login      119\n",
       "..         ...           ...      ...\n",
       "86  2020-12-29  product_page       20\n",
       "87  2020-12-29      purchase       12\n",
       "88  2020-12-30         login        2\n",
       "89  2020-12-30  product_cart        1\n",
       "90  2020-12-30  product_page        1\n",
       "\n",
       "[91 rows x 3 columns]"
      ]
     },
     "execution_count": 58,
     "metadata": {},
     "output_type": "execute_result"
    }
   ],
   "source": [
    "# Distribucion del numero de eventos por usuario en cada etapa para el grupo B\n",
    "\n",
    "funnel_B[\"date\"] = funnel_B[\"event_dt\"].dt.date\n",
    "\n",
    "day_counts_B = funnel_B.groupby([\"date\", \"event_name\"], as_index=False)[\"user_id\"].count()\n",
    "day_counts_B\n"
   ]
  },
  {
   "cell_type": "code",
   "execution_count": 59,
   "metadata": {},
   "outputs": [
    {
     "data": {
      "image/png": "[encoded data removed]",
      "text/plain": [
       "<Figure size 1000x1000 with 1 Axes>"
      ]
     },
     "metadata": {},
     "output_type": "display_data"
    }
   ],
   "source": [
    "plt.figure(figsize=(10,10))\n",
    "sns.lineplot(data=day_counts_B, x=\"date\", y=\"user_id\", hue=\"event_name\")\n",
    "plt.show()"
   ]
  },
  {
   "cell_type": "markdown",
   "metadata": {},
   "source": [
    "**OBSERVACIONES: Las distribuciones del numero de eventos entre los dias de duracion del test muestra que hay un desbalance entre las dos ultimas etapas del embudo por alguna razon purchase y product_cart se interponen como si los usuarios tuvieran la opcion de comprar sin pasar por el carrito de compras o viceversa.**"
   ]
  },
  {
   "cell_type": "markdown",
   "metadata": {},
   "source": [
    "## Z test de proporciones"
   ]
  },
  {
   "cell_type": "markdown",
   "metadata": {},
   "source": [
    "Para el Z-test de proporciones tomaremos los datos del embudo sin la secuencia de eventos para poder revisar mejor las proporciones de los usuarios en cada etapa del embudo para cada grupo:"
   ]
  },
  {
   "cell_type": "code",
   "execution_count": 60,
   "metadata": {},
   "outputs": [
    {
     "data": {
      "text/plain": [
       "event_name\n",
       "login           3674\n",
       "product_page    2303\n",
       "purchase        1128\n",
       "product_cart    1079\n",
       "Name: user_id, dtype: int64"
      ]
     },
     "execution_count": 60,
     "metadata": {},
     "output_type": "execute_result"
    }
   ],
   "source": [
    "# Embudo de eventos \n",
    "\n",
    "funnel.groupby(\"event_name\")[\"user_id\"].nunique().sort_values(ascending=False)"
   ]
  },
  {
   "cell_type": "code",
   "execution_count": 61,
   "metadata": {},
   "outputs": [
    {
     "data": {
      "text/html": [
       "<div>\n",
       "<style scoped>\n",
       "    .dataframe tbody tr th:only-of-type {\n",
       "        vertical-align: middle;\n",
       "    }\n",
       "\n",
       "    .dataframe tbody tr th {\n",
       "        vertical-align: top;\n",
       "    }\n",
       "\n",
       "    .dataframe thead th {\n",
       "        text-align: right;\n",
       "    }\n",
       "</style>\n",
       "<table border=\"1\" class=\"dataframe\">\n",
       "  <thead>\n",
       "    <tr style=\"text-align: right;\">\n",
       "      <th></th>\n",
       "      <th>user_id</th>\n",
       "      <th>event_dt</th>\n",
       "      <th>event_name</th>\n",
       "      <th>details</th>\n",
       "      <th>group</th>\n",
       "      <th>ab_test</th>\n",
       "      <th>date</th>\n",
       "    </tr>\n",
       "  </thead>\n",
       "  <tbody>\n",
       "    <tr>\n",
       "      <th>0</th>\n",
       "      <td>831887FE7F2D6CBA</td>\n",
       "      <td>2020-12-07 06:50:29</td>\n",
       "      <td>purchase</td>\n",
       "      <td>4.99</td>\n",
       "      <td>A</td>\n",
       "      <td>recommender_system_test</td>\n",
       "      <td>2020-12-07</td>\n",
       "    </tr>\n",
       "    <tr>\n",
       "      <th>1</th>\n",
       "      <td>3C5DD0288AC4FE23</td>\n",
       "      <td>2020-12-07 19:42:40</td>\n",
       "      <td>purchase</td>\n",
       "      <td>4.99</td>\n",
       "      <td>A</td>\n",
       "      <td>recommender_system_test</td>\n",
       "      <td>2020-12-07</td>\n",
       "    </tr>\n",
       "    <tr>\n",
       "      <th>3</th>\n",
       "      <td>2B06EB547B7AAD08</td>\n",
       "      <td>2020-12-07 21:36:38</td>\n",
       "      <td>purchase</td>\n",
       "      <td>4.99</td>\n",
       "      <td>A</td>\n",
       "      <td>recommender_system_test</td>\n",
       "      <td>2020-12-07</td>\n",
       "    </tr>\n",
       "    <tr>\n",
       "      <th>5</th>\n",
       "      <td>2F46396B6766CFDB</td>\n",
       "      <td>2020-12-07 13:29:30</td>\n",
       "      <td>purchase</td>\n",
       "      <td>4.99</td>\n",
       "      <td>A</td>\n",
       "      <td>recommender_system_test</td>\n",
       "      <td>2020-12-07</td>\n",
       "    </tr>\n",
       "    <tr>\n",
       "      <th>6</th>\n",
       "      <td>538F954F6B3AECE4</td>\n",
       "      <td>2020-12-07 07:12:05</td>\n",
       "      <td>purchase</td>\n",
       "      <td>4.99</td>\n",
       "      <td>A</td>\n",
       "      <td>recommender_system_test</td>\n",
       "      <td>2020-12-07</td>\n",
       "    </tr>\n",
       "  </tbody>\n",
       "</table>\n",
       "</div>"
      ],
      "text/plain": [
       "            user_id            event_dt event_name  details group  \\\n",
       "0  831887FE7F2D6CBA 2020-12-07 06:50:29   purchase     4.99     A   \n",
       "1  3C5DD0288AC4FE23 2020-12-07 19:42:40   purchase     4.99     A   \n",
       "3  2B06EB547B7AAD08 2020-12-07 21:36:38   purchase     4.99     A   \n",
       "5  2F46396B6766CFDB 2020-12-07 13:29:30   purchase     4.99     A   \n",
       "6  538F954F6B3AECE4 2020-12-07 07:12:05   purchase     4.99     A   \n",
       "\n",
       "                   ab_test        date  \n",
       "0  recommender_system_test  2020-12-07  \n",
       "1  recommender_system_test  2020-12-07  \n",
       "3  recommender_system_test  2020-12-07  \n",
       "5  recommender_system_test  2020-12-07  \n",
       "6  recommender_system_test  2020-12-07  "
      ]
     },
     "execution_count": 61,
     "metadata": {},
     "output_type": "execute_result"
    }
   ],
   "source": [
    "# Mostramos los datasets filtrados por grupo\n",
    "\n",
    "funnel_A.head()"
   ]
  },
  {
   "cell_type": "code",
   "execution_count": 62,
   "metadata": {},
   "outputs": [
    {
     "data": {
      "text/html": [
       "<div>\n",
       "<style scoped>\n",
       "    .dataframe tbody tr th:only-of-type {\n",
       "        vertical-align: middle;\n",
       "    }\n",
       "\n",
       "    .dataframe tbody tr th {\n",
       "        vertical-align: top;\n",
       "    }\n",
       "\n",
       "    .dataframe thead th {\n",
       "        text-align: right;\n",
       "    }\n",
       "</style>\n",
       "<table border=\"1\" class=\"dataframe\">\n",
       "  <thead>\n",
       "    <tr style=\"text-align: right;\">\n",
       "      <th></th>\n",
       "      <th>user_id</th>\n",
       "      <th>event_dt</th>\n",
       "      <th>event_name</th>\n",
       "      <th>details</th>\n",
       "      <th>group</th>\n",
       "      <th>ab_test</th>\n",
       "      <th>date</th>\n",
       "    </tr>\n",
       "  </thead>\n",
       "  <tbody>\n",
       "    <tr>\n",
       "      <th>0</th>\n",
       "      <td>831887FE7F2D6CBA</td>\n",
       "      <td>2020-12-07 06:50:29</td>\n",
       "      <td>purchase</td>\n",
       "      <td>4.99</td>\n",
       "      <td>A</td>\n",
       "      <td>recommender_system_test</td>\n",
       "      <td>2020-12-07</td>\n",
       "    </tr>\n",
       "    <tr>\n",
       "      <th>1</th>\n",
       "      <td>3C5DD0288AC4FE23</td>\n",
       "      <td>2020-12-07 19:42:40</td>\n",
       "      <td>purchase</td>\n",
       "      <td>4.99</td>\n",
       "      <td>A</td>\n",
       "      <td>recommender_system_test</td>\n",
       "      <td>2020-12-07</td>\n",
       "    </tr>\n",
       "    <tr>\n",
       "      <th>3</th>\n",
       "      <td>2B06EB547B7AAD08</td>\n",
       "      <td>2020-12-07 21:36:38</td>\n",
       "      <td>purchase</td>\n",
       "      <td>4.99</td>\n",
       "      <td>A</td>\n",
       "      <td>recommender_system_test</td>\n",
       "      <td>2020-12-07</td>\n",
       "    </tr>\n",
       "    <tr>\n",
       "      <th>5</th>\n",
       "      <td>2F46396B6766CFDB</td>\n",
       "      <td>2020-12-07 13:29:30</td>\n",
       "      <td>purchase</td>\n",
       "      <td>4.99</td>\n",
       "      <td>A</td>\n",
       "      <td>recommender_system_test</td>\n",
       "      <td>2020-12-07</td>\n",
       "    </tr>\n",
       "    <tr>\n",
       "      <th>6</th>\n",
       "      <td>538F954F6B3AECE4</td>\n",
       "      <td>2020-12-07 07:12:05</td>\n",
       "      <td>purchase</td>\n",
       "      <td>4.99</td>\n",
       "      <td>A</td>\n",
       "      <td>recommender_system_test</td>\n",
       "      <td>2020-12-07</td>\n",
       "    </tr>\n",
       "  </tbody>\n",
       "</table>\n",
       "</div>"
      ],
      "text/plain": [
       "            user_id            event_dt event_name  details group  \\\n",
       "0  831887FE7F2D6CBA 2020-12-07 06:50:29   purchase     4.99     A   \n",
       "1  3C5DD0288AC4FE23 2020-12-07 19:42:40   purchase     4.99     A   \n",
       "3  2B06EB547B7AAD08 2020-12-07 21:36:38   purchase     4.99     A   \n",
       "5  2F46396B6766CFDB 2020-12-07 13:29:30   purchase     4.99     A   \n",
       "6  538F954F6B3AECE4 2020-12-07 07:12:05   purchase     4.99     A   \n",
       "\n",
       "                   ab_test        date  \n",
       "0  recommender_system_test  2020-12-07  \n",
       "1  recommender_system_test  2020-12-07  \n",
       "3  recommender_system_test  2020-12-07  \n",
       "5  recommender_system_test  2020-12-07  \n",
       "6  recommender_system_test  2020-12-07  "
      ]
     },
     "execution_count": 62,
     "metadata": {},
     "output_type": "execute_result"
    }
   ],
   "source": [
    "# Mostramos los datasets filtrados por grupo\n",
    "\n",
    "funnel_A.head()"
   ]
  },
  {
   "cell_type": "markdown",
   "metadata": {},
   "source": [
    "Hipotesis nula y alternativa:\n",
    "\n",
    "Ho = La proporcion de la conversion de los clientes en cada etapa del embudo de eventos son iguales \n",
    "\n",
    "Ha = La proporcion de la conversion de los clientes en cada etapa del embudo de eventos son diferentes"
   ]
  },
  {
   "cell_type": "code",
   "execution_count": 63,
   "metadata": {},
   "outputs": [],
   "source": [
    "# Creamos una funcion para nuestro z-test\n",
    "# La funcion revisara las proporciones en cada etapa del embudo para ambos grupos\n",
    "\n",
    "\n",
    "def z_test(step, next_step):\n",
    "\n",
    "    event_A = funnel_A[funnel_A[\"event_name\"]==step][\"user_id\"].nunique()\n",
    "    event_B = funnel_B[funnel_B[\"event_name\"]==step][\"user_id\"].nunique()\n",
    "\n",
    "    next_event_A = funnel_A[funnel_A[\"event_name\"]==next_step][\"user_id\"].nunique()\n",
    "    next_event_B = funnel_B[funnel_B[\"event_name\"]==next_step][\"user_id\"].nunique()\n",
    "\n",
    "    alpha = 0.1 # Nivel de significacion\n",
    "\n",
    "    next_events = np.array([next_event_A, next_event_B])\n",
    "    events = np.array([event_A, event_B])\n",
    "\n",
    "    p1 = next_events[0]/events[0]\n",
    "    p2 = next_events[1]/events[1]\n",
    "\n",
    "    p_combined = (next_events[0] + next_events[1])/(events[0] + events[1])\n",
    "    difference = p1-p2\n",
    "\n",
    "    z_value = difference/mth.sqrt(p_combined * (1 - p_combined) * (1/events[0] + 1/events[1]))\n",
    "\n",
    "    distr = st.norm(0,1)\n",
    "\n",
    "    p_value = (1 - distr.cdf(abs(z_value))) * 2\n",
    "\n",
    "    print('p-value:', p_value)\n",
    "\n",
    "    if (p_value < alpha):\n",
    "        print('Rechazar la hipótesis nula: hay una diferencia significativa entre las proporciones.')\n",
    "    else:\n",
    "        print('No se pudo rechazar la hipótesis nula: no hay razón para pensar que las proporciones son diferentes.')"
   ]
  },
  {
   "cell_type": "code",
   "execution_count": 64,
   "metadata": {},
   "outputs": [
    {
     "name": "stdout",
     "output_type": "stream",
     "text": [
      "Event: Product_page\n",
      "p-value: 5.084368080776613e-06\n",
      "Rechazar la hipótesis nula: hay una diferencia significativa entre las proporciones.\n",
      "Event: Purchase\n",
      "p-value: 0.9870395092337259\n",
      "No se pudo rechazar la hipótesis nula: no hay razón para pensar que las proporciones son diferentes.\n",
      "Event: Product_cart\n",
      "p-value: 0.00041675077401071015\n",
      "Rechazar la hipótesis nula: hay una diferencia significativa entre las proporciones.\n"
     ]
    }
   ],
   "source": [
    "# Analizamos las proporciones de nuestro embudo por cada grupo\n",
    "# Z_test de proporciones por cada evento\n",
    "\n",
    "\n",
    "print(\"Event: Product_page\")\n",
    "z_test(\"login\",\"product_page\")\n",
    "print(\"Event: Purchase\")\n",
    "z_test(\"product_page\",\"purchase\")\n",
    "print(\"Event: Product_cart\")\n",
    "z_test(\"purchase\",\"product_cart\")"
   ]
  },
  {
   "cell_type": "code",
   "execution_count": 65,
   "metadata": {},
   "outputs": [
    {
     "name": "stdout",
     "output_type": "stream",
     "text": [
      "\tEvent: product_page:\n",
      "p-value: 5.084368080776613e-06\n",
      "Rechazar la hipótesis nula: hay una diferencia significativa entre las proporciones.\n",
      "\tEvent: product_cart:\n",
      "p-value: 0.15034216422194624\n",
      "No se pudo rechazar la hipótesis nula: no hay razón para pensar que las proporciones son diferentes.\n",
      "\tEvent: purchase:\n",
      "p-value: 0.018474632659979617\n",
      "Rechazar la hipótesis nula: hay una diferencia significativa entre las proporciones.\n"
     ]
    }
   ],
   "source": [
    "# Z test de proporciones por la conversion desde \"login\" \n",
    "# Creamos una lista y hacemos una bucle for \n",
    "\n",
    "\n",
    "funnels = [\"product_page\", \"product_cart\", \"purchase\"]\n",
    "\n",
    "for element in funnels:\n",
    "    print(f\"\\tEvent: {element}:\")\n",
    "    z_test(\"login\", element)"
   ]
  },
  {
   "cell_type": "markdown",
   "metadata": {},
   "source": [
    "**OBSERVACIONES: Nuestro Z-test nos indica que las proporciones de la conversion de los usuarios no son diferentes para todas las etapas por lo tanto no la conversion mejora pero no para todos los eventos que es lo que en realidad busca el test validar, por lo tanto, podemos notar que el test no mejoro la conversion para todas las etapas del embudo de eventos.**"
   ]
  },
  {
   "cell_type": "markdown",
   "metadata": {},
   "source": [
    "## Conclusiones "
   ]
  },
  {
   "cell_type": "markdown",
   "metadata": {},
   "source": [
    "- Durante el EDA se pudo validar que no habia filas completamente duplicadas, sin embargo, se encontraron valores ausentes pero estos no indicaban un problema para el analis del dataset ya que los valores ausentes eran normales para la columna especifica. Se pudo notar que los registros del A/B test tienen un lapso de tiempo de menos de 1 mes de duracion. \n",
    "\n",
    "- Se encontraron 3675 usuarios unicos en el A/B test, teniendo en cuenta las descripciones tecnicas se pudo notar que es un numero demasiado bajo ya por lo menos deberiamos tener un numero previsto de participantes de 6000.\n",
    "\n",
    "- Los resultados del A/B test indican que los usuarios no siguen una ruta de eventos establecida para el embudo propuesto en la descripcion tecnica de la prueba, al parecer, la prueba no se realizo correctamente o existes errores en los datos de lectura del tiempo exacto en que los usuarios realizaron los distintos eventos en el embudo.\n",
    "\n",
    "- Los usuarios unicos por grupo no estan distribuidos de forma equitativa por lo que el numero de eventos por usuario difiere entre los distintos eventos.\n",
    "\n",
    "- El Z-test nos indica que las proporciones de la conversion de los usuarios no son diferentes para todas las etapas por lo tanto la conversion mejora pero no para todos los eventos que es lo que en realidad busca el test validar, por lo tanto, se pudo notar que el test no mejoro la conversion para todas las etapas del embudo de eventos."
   ]
  }
 ],
 "metadata": {
  "ExecuteTimeLog": [
   {
    "duration": 502,
    "start_time": "2024-07-30T01:19:46.176Z"
   },
   {
    "duration": 4900,
    "start_time": "2024-07-30T15:50:23.425Z"
   },
   {
    "duration": 699,
    "start_time": "2024-07-30T15:55:30.508Z"
   },
   {
    "duration": 17,
    "start_time": "2024-07-30T15:55:42.547Z"
   },
   {
    "duration": 24,
    "start_time": "2024-07-30T15:55:56.157Z"
   },
   {
    "duration": 69,
    "start_time": "2024-07-30T15:56:09.916Z"
   },
   {
    "duration": 16,
    "start_time": "2024-07-30T15:56:26.758Z"
   },
   {
    "duration": 6268,
    "start_time": "2024-07-30T15:56:49.756Z"
   },
   {
    "duration": 17,
    "start_time": "2024-07-30T15:57:01.927Z"
   },
   {
    "duration": 21,
    "start_time": "2024-07-30T15:57:09.284Z"
   },
   {
    "duration": 48,
    "start_time": "2024-07-30T15:57:17.724Z"
   },
   {
    "duration": 14,
    "start_time": "2024-07-30T15:57:34.436Z"
   },
   {
    "duration": 18,
    "start_time": "2024-07-30T15:57:41.404Z"
   },
   {
    "duration": 9,
    "start_time": "2024-07-30T15:59:01.222Z"
   },
   {
    "duration": 71,
    "start_time": "2024-07-30T15:59:08.164Z"
   },
   {
    "duration": 236,
    "start_time": "2024-07-30T15:59:37.484Z"
   },
   {
    "duration": 7,
    "start_time": "2024-07-30T16:00:03.213Z"
   },
   {
    "duration": 14,
    "start_time": "2024-07-30T16:00:09.150Z"
   },
   {
    "duration": 47,
    "start_time": "2024-07-30T16:00:13.157Z"
   },
   {
    "duration": 9,
    "start_time": "2024-07-30T16:00:19.588Z"
   },
   {
    "duration": 10,
    "start_time": "2024-07-30T16:00:21.773Z"
   },
   {
    "duration": 14,
    "start_time": "2024-07-30T16:00:46.132Z"
   },
   {
    "duration": 45,
    "start_time": "2024-07-30T16:00:55.080Z"
   },
   {
    "duration": 59,
    "start_time": "2024-07-30T16:01:03.253Z"
   },
   {
    "duration": 44,
    "start_time": "2024-07-30T16:01:10.109Z"
   },
   {
    "duration": 59,
    "start_time": "2024-07-30T16:01:27.853Z"
   },
   {
    "duration": 21,
    "start_time": "2024-07-30T16:01:41.262Z"
   },
   {
    "duration": 40,
    "start_time": "2024-07-30T16:01:47.693Z"
   },
   {
    "duration": 9,
    "start_time": "2024-07-30T16:02:20.706Z"
   },
   {
    "duration": 20,
    "start_time": "2024-07-30T16:02:28.399Z"
   },
   {
    "duration": 11,
    "start_time": "2024-07-30T16:03:02.920Z"
   },
   {
    "duration": 11,
    "start_time": "2024-07-30T16:03:40.086Z"
   },
   {
    "duration": 11,
    "start_time": "2024-07-30T16:03:44.974Z"
   },
   {
    "duration": 130,
    "start_time": "2024-07-30T16:03:50.693Z"
   },
   {
    "duration": 19,
    "start_time": "2024-07-30T16:04:11.037Z"
   },
   {
    "duration": 18,
    "start_time": "2024-07-30T16:04:26.974Z"
   },
   {
    "duration": 183,
    "start_time": "2024-07-30T16:04:40.520Z"
   },
   {
    "duration": 24,
    "start_time": "2024-07-30T16:04:52.461Z"
   },
   {
    "duration": 9,
    "start_time": "2024-07-30T16:05:23.839Z"
   },
   {
    "duration": 6,
    "start_time": "2024-07-30T16:06:26.688Z"
   },
   {
    "duration": 333,
    "start_time": "2024-07-30T16:06:38.458Z"
   },
   {
    "duration": 25,
    "start_time": "2024-07-30T16:06:59.904Z"
   },
   {
    "duration": 19,
    "start_time": "2024-07-30T16:07:13.734Z"
   },
   {
    "duration": 241,
    "start_time": "2024-07-30T16:07:20.360Z"
   },
   {
    "duration": 19,
    "start_time": "2024-07-30T16:07:49.911Z"
   },
   {
    "duration": 5,
    "start_time": "2024-07-30T16:07:57.800Z"
   },
   {
    "duration": 76,
    "start_time": "2024-07-30T16:08:34.603Z"
   },
   {
    "duration": 34,
    "start_time": "2024-07-30T16:09:00.284Z"
   },
   {
    "duration": 13,
    "start_time": "2024-07-30T16:09:11.643Z"
   },
   {
    "duration": 419,
    "start_time": "2024-07-30T16:09:37.345Z"
   },
   {
    "duration": 10,
    "start_time": "2024-07-30T16:09:55.999Z"
   },
   {
    "duration": 26,
    "start_time": "2024-07-30T16:10:17.827Z"
   },
   {
    "duration": 12,
    "start_time": "2024-07-30T16:10:31.976Z"
   },
   {
    "duration": 11,
    "start_time": "2024-07-30T16:10:37.570Z"
   },
   {
    "duration": 14,
    "start_time": "2024-07-30T16:14:55.476Z"
   },
   {
    "duration": 33,
    "start_time": "2024-07-30T16:15:01.058Z"
   },
   {
    "duration": 421,
    "start_time": "2024-07-30T16:15:19.250Z"
   },
   {
    "duration": 25,
    "start_time": "2024-07-30T16:15:29.179Z"
   },
   {
    "duration": 412,
    "start_time": "2024-07-30T16:15:51.684Z"
   },
   {
    "duration": 4812,
    "start_time": "2024-08-01T20:16:41.722Z"
   },
   {
    "duration": 709,
    "start_time": "2024-08-01T20:16:50.158Z"
   },
   {
    "duration": 17,
    "start_time": "2024-08-01T20:16:54.047Z"
   },
   {
    "duration": 25,
    "start_time": "2024-08-01T20:16:59.150Z"
   },
   {
    "duration": 71,
    "start_time": "2024-08-01T20:17:05.334Z"
   },
   {
    "duration": 17,
    "start_time": "2024-08-01T20:17:08.286Z"
   },
   {
    "duration": 6294,
    "start_time": "2024-08-01T20:18:07.696Z"
   },
   {
    "duration": 15,
    "start_time": "2024-08-01T20:18:33.210Z"
   },
   {
    "duration": 22,
    "start_time": "2024-08-01T20:18:38.270Z"
   },
   {
    "duration": 62,
    "start_time": "2024-08-01T20:18:41.048Z"
   },
   {
    "duration": 15,
    "start_time": "2024-08-01T20:18:43.422Z"
   },
   {
    "duration": 18,
    "start_time": "2024-08-01T20:18:54.098Z"
   },
   {
    "duration": 10,
    "start_time": "2024-08-01T20:18:58.126Z"
   },
   {
    "duration": 70,
    "start_time": "2024-08-01T20:19:00.440Z"
   },
   {
    "duration": 314,
    "start_time": "2024-08-01T20:21:17.196Z"
   },
   {
    "duration": 6,
    "start_time": "2024-08-01T20:21:26.094Z"
   },
   {
    "duration": 14,
    "start_time": "2024-08-01T20:21:28.388Z"
   },
   {
    "duration": 42,
    "start_time": "2024-08-01T20:21:30.181Z"
   },
   {
    "duration": 8,
    "start_time": "2024-08-01T20:21:32.045Z"
   },
   {
    "duration": 15,
    "start_time": "2024-08-01T20:21:50.158Z"
   },
   {
    "duration": 48,
    "start_time": "2024-08-01T20:21:52.759Z"
   },
   {
    "duration": 59,
    "start_time": "2024-08-01T20:21:55.504Z"
   },
   {
    "duration": 45,
    "start_time": "2024-08-01T20:21:59.327Z"
   },
   {
    "duration": 61,
    "start_time": "2024-08-01T20:22:02.479Z"
   },
   {
    "duration": 21,
    "start_time": "2024-08-01T20:22:09.321Z"
   },
   {
    "duration": 42,
    "start_time": "2024-08-01T20:22:11.814Z"
   },
   {
    "duration": 10,
    "start_time": "2024-08-01T20:22:47.210Z"
   },
   {
    "duration": 18,
    "start_time": "2024-08-01T20:23:40.034Z"
   },
   {
    "duration": 11,
    "start_time": "2024-08-01T20:24:32.979Z"
   },
   {
    "duration": 12,
    "start_time": "2024-08-01T20:26:52.896Z"
   },
   {
    "duration": 11,
    "start_time": "2024-08-01T20:26:55.032Z"
   },
   {
    "duration": 123,
    "start_time": "2024-08-01T20:26:57.775Z"
   },
   {
    "duration": 20,
    "start_time": "2024-08-01T20:27:01.447Z"
   },
   {
    "duration": 14,
    "start_time": "2024-08-01T20:27:09.058Z"
   },
   {
    "duration": 185,
    "start_time": "2024-08-01T20:27:12.253Z"
   },
   {
    "duration": 21,
    "start_time": "2024-08-01T20:28:39.211Z"
   },
   {
    "duration": 6,
    "start_time": "2024-08-01T20:29:15.985Z"
   },
   {
    "duration": 325,
    "start_time": "2024-08-01T20:29:22.841Z"
   },
   {
    "duration": 6,
    "start_time": "2024-08-01T20:33:16.962Z"
   },
   {
    "duration": 354,
    "start_time": "2024-08-01T20:33:27.021Z"
   },
   {
    "duration": 25,
    "start_time": "2024-08-01T20:34:22.305Z"
   },
   {
    "duration": 18,
    "start_time": "2024-08-01T20:34:41.268Z"
   },
   {
    "duration": 312,
    "start_time": "2024-08-01T20:34:49.885Z"
   },
   {
    "duration": 24,
    "start_time": "2024-08-01T20:35:34.355Z"
   },
   {
    "duration": 18,
    "start_time": "2024-08-01T20:35:38.311Z"
   },
   {
    "duration": 13,
    "start_time": "2024-08-01T20:35:41.394Z"
   },
   {
    "duration": 19,
    "start_time": "2024-08-01T20:36:55.923Z"
   },
   {
    "duration": 6,
    "start_time": "2024-08-01T20:37:44.258Z"
   },
   {
    "duration": 10,
    "start_time": "2024-08-01T20:37:47.301Z"
   },
   {
    "duration": 37,
    "start_time": "2024-08-01T20:41:01.059Z"
   },
   {
    "duration": 13,
    "start_time": "2024-08-01T20:41:22.078Z"
   },
   {
    "duration": 12,
    "start_time": "2024-08-01T20:41:51.150Z"
   },
   {
    "duration": 25,
    "start_time": "2024-08-01T20:42:51.998Z"
   },
   {
    "duration": 12,
    "start_time": "2024-08-01T20:42:55.157Z"
   },
   {
    "duration": 11,
    "start_time": "2024-08-01T20:42:57.875Z"
   },
   {
    "duration": 14,
    "start_time": "2024-08-01T20:45:54.529Z"
   },
   {
    "duration": 32,
    "start_time": "2024-08-01T20:45:58.311Z"
   },
   {
    "duration": 390,
    "start_time": "2024-08-01T20:46:02.346Z"
   },
   {
    "duration": 412,
    "start_time": "2024-08-01T20:46:40.958Z"
   },
   {
    "duration": 393,
    "start_time": "2024-08-01T20:46:48.924Z"
   },
   {
    "duration": 24,
    "start_time": "2024-08-01T20:46:53.157Z"
   },
   {
    "duration": 392,
    "start_time": "2024-08-01T20:46:57.911Z"
   },
   {
    "duration": 17,
    "start_time": "2024-08-01T20:55:11.304Z"
   },
   {
    "duration": 15,
    "start_time": "2024-08-01T20:55:53.591Z"
   },
   {
    "duration": 14,
    "start_time": "2024-08-01T20:55:59.112Z"
   },
   {
    "duration": 10,
    "start_time": "2024-08-01T20:56:20.072Z"
   },
   {
    "duration": 67,
    "start_time": "2024-08-01T20:56:31.347Z"
   },
   {
    "duration": 45,
    "start_time": "2024-08-01T21:09:08.822Z"
   },
   {
    "duration": 44,
    "start_time": "2024-08-01T21:09:29.629Z"
   },
   {
    "duration": 9,
    "start_time": "2024-08-01T21:40:20.281Z"
   },
   {
    "duration": 41,
    "start_time": "2024-08-01T21:40:24.631Z"
   },
   {
    "duration": 45,
    "start_time": "2024-08-01T21:40:27.419Z"
   },
   {
    "duration": 4870,
    "start_time": "2024-08-04T06:31:08.961Z"
   },
   {
    "duration": 679,
    "start_time": "2024-08-04T06:31:13.835Z"
   },
   {
    "duration": 17,
    "start_time": "2024-08-04T06:31:14.516Z"
   },
   {
    "duration": 26,
    "start_time": "2024-08-04T06:31:14.536Z"
   },
   {
    "duration": 96,
    "start_time": "2024-08-04T06:31:14.567Z"
   },
   {
    "duration": 18,
    "start_time": "2024-08-04T06:31:14.665Z"
   },
   {
    "duration": 6244,
    "start_time": "2024-08-04T06:31:14.686Z"
   },
   {
    "duration": 13,
    "start_time": "2024-08-04T06:31:20.933Z"
   },
   {
    "duration": 21,
    "start_time": "2024-08-04T06:31:20.949Z"
   },
   {
    "duration": 77,
    "start_time": "2024-08-04T06:31:20.973Z"
   },
   {
    "duration": 14,
    "start_time": "2024-08-04T06:31:21.053Z"
   },
   {
    "duration": 13,
    "start_time": "2024-08-04T06:31:21.071Z"
   },
   {
    "duration": 48,
    "start_time": "2024-08-04T06:31:21.088Z"
   },
   {
    "duration": 91,
    "start_time": "2024-08-04T06:31:21.144Z"
   },
   {
    "duration": 243,
    "start_time": "2024-08-04T06:31:21.238Z"
   },
   {
    "duration": 7,
    "start_time": "2024-08-04T06:31:21.484Z"
   },
   {
    "duration": 37,
    "start_time": "2024-08-04T06:31:21.495Z"
   },
   {
    "duration": 44,
    "start_time": "2024-08-04T06:31:21.535Z"
   },
   {
    "duration": 8,
    "start_time": "2024-08-04T06:31:21.581Z"
   },
   {
    "duration": 43,
    "start_time": "2024-08-04T06:31:21.593Z"
   },
   {
    "duration": 45,
    "start_time": "2024-08-04T06:31:21.638Z"
   },
   {
    "duration": 98,
    "start_time": "2024-08-04T06:31:21.687Z"
   },
   {
    "duration": 57,
    "start_time": "2024-08-04T06:31:21.788Z"
   },
   {
    "duration": 58,
    "start_time": "2024-08-04T06:31:21.848Z"
   },
   {
    "duration": 21,
    "start_time": "2024-08-04T06:31:21.930Z"
   },
   {
    "duration": 42,
    "start_time": "2024-08-04T06:31:21.954Z"
   },
   {
    "duration": 35,
    "start_time": "2024-08-04T06:31:22.000Z"
   },
   {
    "duration": 21,
    "start_time": "2024-08-04T06:31:22.039Z"
   },
   {
    "duration": 11,
    "start_time": "2024-08-04T06:31:22.063Z"
   },
   {
    "duration": 11,
    "start_time": "2024-08-04T06:31:22.077Z"
   },
   {
    "duration": 55,
    "start_time": "2024-08-04T06:31:22.091Z"
   },
   {
    "duration": 146,
    "start_time": "2024-08-04T06:31:22.149Z"
   },
   {
    "duration": 42,
    "start_time": "2024-08-04T06:31:22.298Z"
   },
   {
    "duration": 13,
    "start_time": "2024-08-04T06:31:22.344Z"
   },
   {
    "duration": 212,
    "start_time": "2024-08-04T06:31:22.360Z"
   },
   {
    "duration": 22,
    "start_time": "2024-08-04T06:31:22.575Z"
   },
   {
    "duration": 6,
    "start_time": "2024-08-04T06:31:22.600Z"
   },
   {
    "duration": 402,
    "start_time": "2024-08-04T06:31:22.608Z"
   },
   {
    "duration": 36,
    "start_time": "2024-08-04T06:31:23.013Z"
   },
   {
    "duration": 17,
    "start_time": "2024-08-04T06:31:23.052Z"
   },
   {
    "duration": 264,
    "start_time": "2024-08-04T06:31:23.078Z"
   },
   {
    "duration": 22,
    "start_time": "2024-08-04T06:31:23.345Z"
   },
   {
    "duration": 5,
    "start_time": "2024-08-04T06:31:23.370Z"
   },
   {
    "duration": 60,
    "start_time": "2024-08-04T06:31:23.377Z"
   },
   {
    "duration": 38,
    "start_time": "2024-08-04T06:31:23.440Z"
   },
   {
    "duration": 15,
    "start_time": "2024-08-04T06:31:23.532Z"
   },
   {
    "duration": 14,
    "start_time": "2024-08-04T06:31:23.550Z"
   },
   {
    "duration": 26,
    "start_time": "2024-08-04T06:31:23.571Z"
   },
   {
    "duration": 13,
    "start_time": "2024-08-04T06:31:23.632Z"
   },
   {
    "duration": 12,
    "start_time": "2024-08-04T06:31:23.648Z"
   },
   {
    "duration": 14,
    "start_time": "2024-08-04T06:31:23.663Z"
   },
   {
    "duration": 74,
    "start_time": "2024-08-04T06:31:23.680Z"
   },
   {
    "duration": 411,
    "start_time": "2024-08-04T06:31:23.757Z"
   },
   {
    "duration": 25,
    "start_time": "2024-08-04T06:31:24.171Z"
   },
   {
    "duration": 438,
    "start_time": "2024-08-04T06:31:24.200Z"
   },
   {
    "duration": 16,
    "start_time": "2024-08-04T06:31:24.641Z"
   },
   {
    "duration": 14,
    "start_time": "2024-08-04T06:31:24.660Z"
   },
   {
    "duration": 53,
    "start_time": "2024-08-04T06:31:24.677Z"
   },
   {
    "duration": 10,
    "start_time": "2024-08-04T06:31:24.733Z"
   },
   {
    "duration": 42,
    "start_time": "2024-08-04T06:31:24.746Z"
   },
   {
    "duration": 75,
    "start_time": "2024-08-04T06:31:24.791Z"
   }
  ],
  "kernelspec": {
   "display_name": "Python 3 (ipykernel)",
   "language": "python",
   "name": "python3"
  },
  "language_info": {
   "codemirror_mode": {
    "name": "ipython",
    "version": 3
   },
   "file_extension": ".py",
   "mimetype": "text/x-python",
   "name": "python",
   "nbconvert_exporter": "python",
   "pygments_lexer": "ipython3",
   "version": "3.12.5"
  },
  "toc": {
   "base_numbering": 1,
   "nav_menu": {},
   "number_sections": true,
   "sideBar": true,
   "skip_h1_title": true,
   "title_cell": "Table of Contents",
   "title_sidebar": "Contents",
   "toc_cell": false,
   "toc_position": {
    "height": "calc(100% - 180px)",
    "left": "10px",
    "top": "150px",
    "width": "252.8px"
   },
   "toc_section_display": true,
   "toc_window_display": true
  }
 },
 "nbformat": 4,
 "nbformat_minor": 2
}
